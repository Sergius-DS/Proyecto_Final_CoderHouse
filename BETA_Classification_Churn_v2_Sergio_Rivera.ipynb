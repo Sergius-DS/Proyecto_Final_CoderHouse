{
  "cells": [
    {
      "cell_type": "markdown",
      "metadata": {
        "id": "view-in-github",
        "colab_type": "text"
      },
      "source": [
        "<a href=\"https://colab.research.google.com/github/Sergius-DS/Proyecto_churn/blob/main/BETA_Classification_Churn_v2_Sergio_Rivera.ipynb\" target=\"_parent\"><img src=\"https://colab.research.google.com/assets/colab-badge.svg\" alt=\"Open In Colab\"/></a>"
      ]
    },
    {
      "cell_type": "markdown",
      "metadata": {
        "id": "SWHWWWImRcNs"
      },
      "source": [
        "# **OBJETIVO**\n",
        "\n",
        "Se busca utilizando la Ciencia de Datos, identificar características que influyan en la deserción de clientes(Churning), así también con los datos obtenidos ver si se puede obtener revelaciones de cómo optimizar el servicio existente."
      ]
    },
    {
      "cell_type": "markdown",
      "metadata": {
        "id": "NeP4BQwKRojr"
      },
      "source": [
        "**CONTEXTO**\n",
        "\n",
        "En un mundo cada vez más demandante y con muchas opciones, la deserción de clientes es más común ya sea por factores económicos, mal servicio, falta de educación financiera, desconocimiento de todos los servicios a los que se puede optar o falta de interacción cliente-compañía, podrían ser causantes de la deserción.\n",
        "\n",
        "Se va a buscar revelaciones que puedan confirmar a través de los datos qué características influyen en esta acción."
      ]
    },
    {
      "cell_type": "markdown",
      "metadata": {
        "id": "I7yLp2lwSoIq"
      },
      "source": [
        "**DATOS GENERALES**\n",
        "\n",
        "El dataset proporcionado '**Credit_card_churn.xlsx**' obtenido de \"Kaggle\" cuenta con 10.127 filas y 23 columnas lo que propociona una buena cantidad datos para hacer un análisis.\n",
        "\n",
        "El set de datos brinda información relacionada a la deserción de clientes, como edad de los clientes ya sean existentes o que abandonaron, límite de crédito, saldo final, tipo de educación, si han sido contactados en los últimos 12 meses, etc.\n",
        "\n",
        "Se va a explorar el set de datos, se van a hacer análisis, plantear preguntas relacionadas al objetivo y obteniendo respuestas de los datos presentes en el data set para hacer frente a la deserción de clientes.\n"
      ]
    },
    {
      "cell_type": "markdown",
      "metadata": {
        "id": "N_TDOmLdTW-A"
      },
      "source": [
        "**ESTRUCTURA DEL SET DE DATOS**\n",
        "\n",
        " **CLIENTNUM:** es un identicador único del tipo numérico.\n",
        "\n",
        " **Attrition_Flag:** es del tipo string que consta de 2 categorías ['Existing Customer' 'Attrited Customer'] ['Cliente Existente' 'Cliente Desertado']\n",
        "\n",
        " **Customer_Age:** La edad de los clientes es del tipo numérico.\n",
        "\n",
        " **Gender:** es del tipo string que consta de 2 categorías ['M' 'F'] para Masculino y Femenino\n",
        "\n",
        " **Dependent_count:** es del tipo numérico y muestra la cantidad de personas que dependen del cliente, hijos, familiares.\n",
        "\n",
        " **Education_Level:** es del tipo string que consta de ['High School':Liceo, 'Graduate':Graduado, 'Uneducated':Sin Educación, 'Unknown': Desconocido, 'College':Universidad, 'Post-Graduate':Magister,\n",
        " 'Doctorate':Doctorado] mostrando los niveles de educación de los clientes\n",
        "\n",
        " **Marital_Status:** es del tipo string que consta de ['Married' 'Single' 'Unknown' 'Divorced'] ['Casado/a' 'Soltero/a' 'Desconocido' 'Divorciado/a']\n",
        "\n",
        " **Income_Category:** es del tipo string que consta de ['$60K - $80K' 'Less than $40K' '$80K - $120K' '$40K - $60K' '$120K +'\n",
        " 'Unknown'] rangos de sueldo y una categoría Desconocido\n",
        "\n",
        " **Card_Category:** es del tipo string que consta de categorías de tarjetas de Crédito['Blue' 'Gold' 'Silver' 'Platinum']\n",
        "\n",
        " **Months_on_book:** es del tipo numérico y refleja la cantidad de meses que el cliente lleva en la compañía\n",
        "\n",
        " **Total_Relationship_Count:** es del tipo numérico y refleja la cantidad de servicios el cliente tiene con la compañía\n",
        "\n",
        " **Months_Inactive_12_mon:** es del tipo numérico y refleja la cantidad de meses que el cliente ha estado inactivo durante los últimos 12 meses\n",
        "\n",
        " **Contacts_Count_12_mon:** es del tipo numérico y refleja la cantidad de clientes o instituciones con los que el cliente tuvo contacto dentro de los últimos 12 meses\n",
        "\n",
        " **Credit_Limit:** es del tipo flotante y muestra el Límite de Crédito del cliente\n",
        "\n",
        " **Total_Revolving_Bal:** es del tipo numérico y muestra la cantidad de dinero que el cliente debe a la compañía\n",
        "\n",
        " **Avg_Open_To_Buy:** es del tipo flotante y muestra la cantidad de dinero que el cliente tiene disponible para hacer compras\n",
        "\n",
        " **Total_Amt_Chng_Q4_Q1:** muestra el cambio de la cantidad del cuarto al primer trimestre **falta limpiar esa columna**. ver eso está como object\n",
        "\n",
        " **Total_Trans_Amt:** es del tipo numérico y refleja el dinero total en las transacciones realizadas\n",
        "\n",
        " **Total_Trans_Ct:** es del tipo numérico y refleja la cantidad de dinero que aumentó debido a las transacciones realizadas\n",
        "\n",
        " **Total_Ct_Chng_Q4_Q1:** es del tipo numérico y refleja la cantidad de transacciones que aumentaron desde el primer al cuarto trimestre\n",
        "\n",
        " **Avg_Utilization_Ratio:** es del tipo flotante y muestra la razón el porcentaje de cuánto un cliente utilizó los servicios ofrecidos\n",
        "\n",
        "   **Naive_Bayes_Classifier_Attrition_Flag_Card_Category_Contacts_Count_12_mon_Dependent_count_Education_Level_Months_Inactive_12_mon_1:** es del tipo flotante, se observa que se usó el Clasificador Naives Bayes, pero no se sabe cómo fue usado en qué variables, si se hizo Data Wrangling, si se normalizaron los datos. En general no se sabe si la metodología está bien aplicada\n",
        "\n",
        "   **Naive_Bayes_Classifier_Attrition_Flag_Card_Category_Contacts_Count_12_mon_Dependent_count_Education_Level_Months_Inactive_12_mon_2:** es del tipo flotante,  se observa que se usó el Clasificador Naives Bayes, pero no se sabe cómo fue usado en qué variables, si se hizo Data Wrangling, si se normalizaron los datos. En general no se sabe si la metodología está bien aplicada\n"
      ]
    },
    {
      "cell_type": "markdown",
      "metadata": {
        "id": "mXQf9evEuoLF"
      },
      "source": [
        "# ANALISIS EXPLORATORIO DE DATOS (E.D.A)"
      ]
    },
    {
      "cell_type": "code",
      "execution_count": 2,
      "metadata": {
        "id": "9_UwWNfpQ5ZM"
      },
      "outputs": [],
      "source": [
        "import pandas as pd\n",
        "import numpy as np\n",
        "import seaborn as sns\n",
        "import matplotlib.pyplot as plt\n",
        "from sklearn.preprocessing import StandardScaler"
      ]
    },
    {
      "cell_type": "code",
      "execution_count": 3,
      "metadata": {
        "colab": {
          "base_uri": "https://localhost:8080/",
          "height": 342
        },
        "id": "yl0ReToPV1Yn",
        "outputId": "3ead0d3f-048e-446d-c696-68869bb3df9f"
      },
      "outputs": [
        {
          "output_type": "execute_result",
          "data": {
            "text/plain": [
              "   CLIENTNUM     Attrition_Flag  Customer_Age Gender  Dependent_count  \\\n",
              "0  768805383  Existing Customer            45      M                3   \n",
              "1  818770008  Existing Customer            49      F                5   \n",
              "2  713982108  Existing Customer            51      M                3   \n",
              "3  769911858  Existing Customer            40      F                4   \n",
              "4  709106358  Existing Customer            40      M                3   \n",
              "\n",
              "  Education_Level Marital_Status Income_Category Card_Category  \\\n",
              "0     High School        Married     $60K - $80K          Blue   \n",
              "1        Graduate         Single  Less than $40K          Blue   \n",
              "2        Graduate        Married    $80K - $120K          Blue   \n",
              "3     High School        Unknown  Less than $40K          Blue   \n",
              "4      Uneducated        Married     $60K - $80K          Blue   \n",
              "\n",
              "   Months_on_book  ...  Credit_Limit  Total_Revolving_Bal  Avg_Open_To_Buy  \\\n",
              "0              39  ...       12691.0                  777          11914.0   \n",
              "1              44  ...        8256.0                  864           7392.0   \n",
              "2              36  ...        3418.0                    0           3418.0   \n",
              "3              34  ...        3313.0                 2517            796.0   \n",
              "4              21  ...        4716.0                    0           4716.0   \n",
              "\n",
              "   Total_Amt_Chng_Q4_Q1  Total_Trans_Amt  Total_Trans_Ct  Total_Ct_Chng_Q4_Q1  \\\n",
              "0                  1335             1144              42                 1625   \n",
              "1                  1541             1291              33                 3714   \n",
              "2                  2594             1887              20                 2333   \n",
              "3                  1405             1171              20                 2333   \n",
              "4                  2175              816              28  2024-05-02 00:00:00   \n",
              "\n",
              "   Avg_Utilization_Ratio  \\\n",
              "0                  61.00   \n",
              "1                 105.00   \n",
              "2                   0.00   \n",
              "3                   0.76   \n",
              "4                   0.00   \n",
              "\n",
              "   Naive_Bayes_Classifier_Attrition_Flag_Card_Category_Contacts_Count_12_mon_Dependent_count_Education_Level_Months_Inactive_12_mon_1  \\\n",
              "0                                            0.93448                                                                                    \n",
              "1                                            0.56861                                                                                    \n",
              "2                                            0.21081                                                                                    \n",
              "3                                        13366.00000                                                                                    \n",
              "4                                            0.21676                                                                                    \n",
              "\n",
              "  Naive_Bayes_Classifier_Attrition_Flag_Card_Category_Contacts_Count_12_mon_Dependent_count_Education_Level_Months_Inactive_12_mon_2  \n",
              "0                                            99991.0                                                                                  \n",
              "1                                            99994.0                                                                                  \n",
              "2                                            99998.0                                                                                  \n",
              "3                                            99987.0                                                                                  \n",
              "4                                            99998.0                                                                                  \n",
              "\n",
              "[5 rows x 23 columns]"
            ],
            "text/html": [
              "\n",
              "  <div id=\"df-e5d52624-850f-4d0d-b2f3-fa7c8683803b\" class=\"colab-df-container\">\n",
              "    <div>\n",
              "<style scoped>\n",
              "    .dataframe tbody tr th:only-of-type {\n",
              "        vertical-align: middle;\n",
              "    }\n",
              "\n",
              "    .dataframe tbody tr th {\n",
              "        vertical-align: top;\n",
              "    }\n",
              "\n",
              "    .dataframe thead th {\n",
              "        text-align: right;\n",
              "    }\n",
              "</style>\n",
              "<table border=\"1\" class=\"dataframe\">\n",
              "  <thead>\n",
              "    <tr style=\"text-align: right;\">\n",
              "      <th></th>\n",
              "      <th>CLIENTNUM</th>\n",
              "      <th>Attrition_Flag</th>\n",
              "      <th>Customer_Age</th>\n",
              "      <th>Gender</th>\n",
              "      <th>Dependent_count</th>\n",
              "      <th>Education_Level</th>\n",
              "      <th>Marital_Status</th>\n",
              "      <th>Income_Category</th>\n",
              "      <th>Card_Category</th>\n",
              "      <th>Months_on_book</th>\n",
              "      <th>...</th>\n",
              "      <th>Credit_Limit</th>\n",
              "      <th>Total_Revolving_Bal</th>\n",
              "      <th>Avg_Open_To_Buy</th>\n",
              "      <th>Total_Amt_Chng_Q4_Q1</th>\n",
              "      <th>Total_Trans_Amt</th>\n",
              "      <th>Total_Trans_Ct</th>\n",
              "      <th>Total_Ct_Chng_Q4_Q1</th>\n",
              "      <th>Avg_Utilization_Ratio</th>\n",
              "      <th>Naive_Bayes_Classifier_Attrition_Flag_Card_Category_Contacts_Count_12_mon_Dependent_count_Education_Level_Months_Inactive_12_mon_1</th>\n",
              "      <th>Naive_Bayes_Classifier_Attrition_Flag_Card_Category_Contacts_Count_12_mon_Dependent_count_Education_Level_Months_Inactive_12_mon_2</th>\n",
              "    </tr>\n",
              "  </thead>\n",
              "  <tbody>\n",
              "    <tr>\n",
              "      <th>0</th>\n",
              "      <td>768805383</td>\n",
              "      <td>Existing Customer</td>\n",
              "      <td>45</td>\n",
              "      <td>M</td>\n",
              "      <td>3</td>\n",
              "      <td>High School</td>\n",
              "      <td>Married</td>\n",
              "      <td>$60K - $80K</td>\n",
              "      <td>Blue</td>\n",
              "      <td>39</td>\n",
              "      <td>...</td>\n",
              "      <td>12691.0</td>\n",
              "      <td>777</td>\n",
              "      <td>11914.0</td>\n",
              "      <td>1335</td>\n",
              "      <td>1144</td>\n",
              "      <td>42</td>\n",
              "      <td>1625</td>\n",
              "      <td>61.00</td>\n",
              "      <td>0.93448</td>\n",
              "      <td>99991.0</td>\n",
              "    </tr>\n",
              "    <tr>\n",
              "      <th>1</th>\n",
              "      <td>818770008</td>\n",
              "      <td>Existing Customer</td>\n",
              "      <td>49</td>\n",
              "      <td>F</td>\n",
              "      <td>5</td>\n",
              "      <td>Graduate</td>\n",
              "      <td>Single</td>\n",
              "      <td>Less than $40K</td>\n",
              "      <td>Blue</td>\n",
              "      <td>44</td>\n",
              "      <td>...</td>\n",
              "      <td>8256.0</td>\n",
              "      <td>864</td>\n",
              "      <td>7392.0</td>\n",
              "      <td>1541</td>\n",
              "      <td>1291</td>\n",
              "      <td>33</td>\n",
              "      <td>3714</td>\n",
              "      <td>105.00</td>\n",
              "      <td>0.56861</td>\n",
              "      <td>99994.0</td>\n",
              "    </tr>\n",
              "    <tr>\n",
              "      <th>2</th>\n",
              "      <td>713982108</td>\n",
              "      <td>Existing Customer</td>\n",
              "      <td>51</td>\n",
              "      <td>M</td>\n",
              "      <td>3</td>\n",
              "      <td>Graduate</td>\n",
              "      <td>Married</td>\n",
              "      <td>$80K - $120K</td>\n",
              "      <td>Blue</td>\n",
              "      <td>36</td>\n",
              "      <td>...</td>\n",
              "      <td>3418.0</td>\n",
              "      <td>0</td>\n",
              "      <td>3418.0</td>\n",
              "      <td>2594</td>\n",
              "      <td>1887</td>\n",
              "      <td>20</td>\n",
              "      <td>2333</td>\n",
              "      <td>0.00</td>\n",
              "      <td>0.21081</td>\n",
              "      <td>99998.0</td>\n",
              "    </tr>\n",
              "    <tr>\n",
              "      <th>3</th>\n",
              "      <td>769911858</td>\n",
              "      <td>Existing Customer</td>\n",
              "      <td>40</td>\n",
              "      <td>F</td>\n",
              "      <td>4</td>\n",
              "      <td>High School</td>\n",
              "      <td>Unknown</td>\n",
              "      <td>Less than $40K</td>\n",
              "      <td>Blue</td>\n",
              "      <td>34</td>\n",
              "      <td>...</td>\n",
              "      <td>3313.0</td>\n",
              "      <td>2517</td>\n",
              "      <td>796.0</td>\n",
              "      <td>1405</td>\n",
              "      <td>1171</td>\n",
              "      <td>20</td>\n",
              "      <td>2333</td>\n",
              "      <td>0.76</td>\n",
              "      <td>13366.00000</td>\n",
              "      <td>99987.0</td>\n",
              "    </tr>\n",
              "    <tr>\n",
              "      <th>4</th>\n",
              "      <td>709106358</td>\n",
              "      <td>Existing Customer</td>\n",
              "      <td>40</td>\n",
              "      <td>M</td>\n",
              "      <td>3</td>\n",
              "      <td>Uneducated</td>\n",
              "      <td>Married</td>\n",
              "      <td>$60K - $80K</td>\n",
              "      <td>Blue</td>\n",
              "      <td>21</td>\n",
              "      <td>...</td>\n",
              "      <td>4716.0</td>\n",
              "      <td>0</td>\n",
              "      <td>4716.0</td>\n",
              "      <td>2175</td>\n",
              "      <td>816</td>\n",
              "      <td>28</td>\n",
              "      <td>2024-05-02 00:00:00</td>\n",
              "      <td>0.00</td>\n",
              "      <td>0.21676</td>\n",
              "      <td>99998.0</td>\n",
              "    </tr>\n",
              "  </tbody>\n",
              "</table>\n",
              "<p>5 rows × 23 columns</p>\n",
              "</div>\n",
              "    <div class=\"colab-df-buttons\">\n",
              "\n",
              "  <div class=\"colab-df-container\">\n",
              "    <button class=\"colab-df-convert\" onclick=\"convertToInteractive('df-e5d52624-850f-4d0d-b2f3-fa7c8683803b')\"\n",
              "            title=\"Convert this dataframe to an interactive table.\"\n",
              "            style=\"display:none;\">\n",
              "\n",
              "  <svg xmlns=\"http://www.w3.org/2000/svg\" height=\"24px\" viewBox=\"0 -960 960 960\">\n",
              "    <path d=\"M120-120v-720h720v720H120Zm60-500h600v-160H180v160Zm220 220h160v-160H400v160Zm0 220h160v-160H400v160ZM180-400h160v-160H180v160Zm440 0h160v-160H620v160ZM180-180h160v-160H180v160Zm440 0h160v-160H620v160Z\"/>\n",
              "  </svg>\n",
              "    </button>\n",
              "\n",
              "  <style>\n",
              "    .colab-df-container {\n",
              "      display:flex;\n",
              "      gap: 12px;\n",
              "    }\n",
              "\n",
              "    .colab-df-convert {\n",
              "      background-color: #E8F0FE;\n",
              "      border: none;\n",
              "      border-radius: 50%;\n",
              "      cursor: pointer;\n",
              "      display: none;\n",
              "      fill: #1967D2;\n",
              "      height: 32px;\n",
              "      padding: 0 0 0 0;\n",
              "      width: 32px;\n",
              "    }\n",
              "\n",
              "    .colab-df-convert:hover {\n",
              "      background-color: #E2EBFA;\n",
              "      box-shadow: 0px 1px 2px rgba(60, 64, 67, 0.3), 0px 1px 3px 1px rgba(60, 64, 67, 0.15);\n",
              "      fill: #174EA6;\n",
              "    }\n",
              "\n",
              "    .colab-df-buttons div {\n",
              "      margin-bottom: 4px;\n",
              "    }\n",
              "\n",
              "    [theme=dark] .colab-df-convert {\n",
              "      background-color: #3B4455;\n",
              "      fill: #D2E3FC;\n",
              "    }\n",
              "\n",
              "    [theme=dark] .colab-df-convert:hover {\n",
              "      background-color: #434B5C;\n",
              "      box-shadow: 0px 1px 3px 1px rgba(0, 0, 0, 0.15);\n",
              "      filter: drop-shadow(0px 1px 2px rgba(0, 0, 0, 0.3));\n",
              "      fill: #FFFFFF;\n",
              "    }\n",
              "  </style>\n",
              "\n",
              "    <script>\n",
              "      const buttonEl =\n",
              "        document.querySelector('#df-e5d52624-850f-4d0d-b2f3-fa7c8683803b button.colab-df-convert');\n",
              "      buttonEl.style.display =\n",
              "        google.colab.kernel.accessAllowed ? 'block' : 'none';\n",
              "\n",
              "      async function convertToInteractive(key) {\n",
              "        const element = document.querySelector('#df-e5d52624-850f-4d0d-b2f3-fa7c8683803b');\n",
              "        const dataTable =\n",
              "          await google.colab.kernel.invokeFunction('convertToInteractive',\n",
              "                                                    [key], {});\n",
              "        if (!dataTable) return;\n",
              "\n",
              "        const docLinkHtml = 'Like what you see? Visit the ' +\n",
              "          '<a target=\"_blank\" href=https://colab.research.google.com/notebooks/data_table.ipynb>data table notebook</a>'\n",
              "          + ' to learn more about interactive tables.';\n",
              "        element.innerHTML = '';\n",
              "        dataTable['output_type'] = 'display_data';\n",
              "        await google.colab.output.renderOutput(dataTable, element);\n",
              "        const docLink = document.createElement('div');\n",
              "        docLink.innerHTML = docLinkHtml;\n",
              "        element.appendChild(docLink);\n",
              "      }\n",
              "    </script>\n",
              "  </div>\n",
              "\n",
              "\n",
              "<div id=\"df-7f973d10-bfd4-43af-8b7d-07fc5f2db282\">\n",
              "  <button class=\"colab-df-quickchart\" onclick=\"quickchart('df-7f973d10-bfd4-43af-8b7d-07fc5f2db282')\"\n",
              "            title=\"Suggest charts\"\n",
              "            style=\"display:none;\">\n",
              "\n",
              "<svg xmlns=\"http://www.w3.org/2000/svg\" height=\"24px\"viewBox=\"0 0 24 24\"\n",
              "     width=\"24px\">\n",
              "    <g>\n",
              "        <path d=\"M19 3H5c-1.1 0-2 .9-2 2v14c0 1.1.9 2 2 2h14c1.1 0 2-.9 2-2V5c0-1.1-.9-2-2-2zM9 17H7v-7h2v7zm4 0h-2V7h2v10zm4 0h-2v-4h2v4z\"/>\n",
              "    </g>\n",
              "</svg>\n",
              "  </button>\n",
              "\n",
              "<style>\n",
              "  .colab-df-quickchart {\n",
              "      --bg-color: #E8F0FE;\n",
              "      --fill-color: #1967D2;\n",
              "      --hover-bg-color: #E2EBFA;\n",
              "      --hover-fill-color: #174EA6;\n",
              "      --disabled-fill-color: #AAA;\n",
              "      --disabled-bg-color: #DDD;\n",
              "  }\n",
              "\n",
              "  [theme=dark] .colab-df-quickchart {\n",
              "      --bg-color: #3B4455;\n",
              "      --fill-color: #D2E3FC;\n",
              "      --hover-bg-color: #434B5C;\n",
              "      --hover-fill-color: #FFFFFF;\n",
              "      --disabled-bg-color: #3B4455;\n",
              "      --disabled-fill-color: #666;\n",
              "  }\n",
              "\n",
              "  .colab-df-quickchart {\n",
              "    background-color: var(--bg-color);\n",
              "    border: none;\n",
              "    border-radius: 50%;\n",
              "    cursor: pointer;\n",
              "    display: none;\n",
              "    fill: var(--fill-color);\n",
              "    height: 32px;\n",
              "    padding: 0;\n",
              "    width: 32px;\n",
              "  }\n",
              "\n",
              "  .colab-df-quickchart:hover {\n",
              "    background-color: var(--hover-bg-color);\n",
              "    box-shadow: 0 1px 2px rgba(60, 64, 67, 0.3), 0 1px 3px 1px rgba(60, 64, 67, 0.15);\n",
              "    fill: var(--button-hover-fill-color);\n",
              "  }\n",
              "\n",
              "  .colab-df-quickchart-complete:disabled,\n",
              "  .colab-df-quickchart-complete:disabled:hover {\n",
              "    background-color: var(--disabled-bg-color);\n",
              "    fill: var(--disabled-fill-color);\n",
              "    box-shadow: none;\n",
              "  }\n",
              "\n",
              "  .colab-df-spinner {\n",
              "    border: 2px solid var(--fill-color);\n",
              "    border-color: transparent;\n",
              "    border-bottom-color: var(--fill-color);\n",
              "    animation:\n",
              "      spin 1s steps(1) infinite;\n",
              "  }\n",
              "\n",
              "  @keyframes spin {\n",
              "    0% {\n",
              "      border-color: transparent;\n",
              "      border-bottom-color: var(--fill-color);\n",
              "      border-left-color: var(--fill-color);\n",
              "    }\n",
              "    20% {\n",
              "      border-color: transparent;\n",
              "      border-left-color: var(--fill-color);\n",
              "      border-top-color: var(--fill-color);\n",
              "    }\n",
              "    30% {\n",
              "      border-color: transparent;\n",
              "      border-left-color: var(--fill-color);\n",
              "      border-top-color: var(--fill-color);\n",
              "      border-right-color: var(--fill-color);\n",
              "    }\n",
              "    40% {\n",
              "      border-color: transparent;\n",
              "      border-right-color: var(--fill-color);\n",
              "      border-top-color: var(--fill-color);\n",
              "    }\n",
              "    60% {\n",
              "      border-color: transparent;\n",
              "      border-right-color: var(--fill-color);\n",
              "    }\n",
              "    80% {\n",
              "      border-color: transparent;\n",
              "      border-right-color: var(--fill-color);\n",
              "      border-bottom-color: var(--fill-color);\n",
              "    }\n",
              "    90% {\n",
              "      border-color: transparent;\n",
              "      border-bottom-color: var(--fill-color);\n",
              "    }\n",
              "  }\n",
              "</style>\n",
              "\n",
              "  <script>\n",
              "    async function quickchart(key) {\n",
              "      const quickchartButtonEl =\n",
              "        document.querySelector('#' + key + ' button');\n",
              "      quickchartButtonEl.disabled = true;  // To prevent multiple clicks.\n",
              "      quickchartButtonEl.classList.add('colab-df-spinner');\n",
              "      try {\n",
              "        const charts = await google.colab.kernel.invokeFunction(\n",
              "            'suggestCharts', [key], {});\n",
              "      } catch (error) {\n",
              "        console.error('Error during call to suggestCharts:', error);\n",
              "      }\n",
              "      quickchartButtonEl.classList.remove('colab-df-spinner');\n",
              "      quickchartButtonEl.classList.add('colab-df-quickchart-complete');\n",
              "    }\n",
              "    (() => {\n",
              "      let quickchartButtonEl =\n",
              "        document.querySelector('#df-7f973d10-bfd4-43af-8b7d-07fc5f2db282 button');\n",
              "      quickchartButtonEl.style.display =\n",
              "        google.colab.kernel.accessAllowed ? 'block' : 'none';\n",
              "    })();\n",
              "  </script>\n",
              "</div>\n",
              "\n",
              "    </div>\n",
              "  </div>\n"
            ],
            "application/vnd.google.colaboratory.intrinsic+json": {
              "type": "dataframe",
              "variable_name": "df"
            }
          },
          "metadata": {},
          "execution_count": 3
        }
      ],
      "source": [
        "df = pd.read_excel('Credit_card_churn.xlsx')\n",
        "df.head()"
      ]
    },
    {
      "cell_type": "code",
      "execution_count": 4,
      "metadata": {
        "colab": {
          "base_uri": "https://localhost:8080/"
        },
        "id": "IgmfTJVjYyJh",
        "outputId": "7f093d88-4ddf-41cf-8073-b2a2c9a1fc69"
      },
      "outputs": [
        {
          "output_type": "stream",
          "name": "stdout",
          "text": [
            "(10127, 23)\n"
          ]
        }
      ],
      "source": [
        "print(df.shape)"
      ]
    },
    {
      "cell_type": "code",
      "execution_count": 5,
      "metadata": {
        "colab": {
          "base_uri": "https://localhost:8080/"
        },
        "id": "3cNFQE9PXPIQ",
        "outputId": "f78d7124-85f4-4348-81fc-ed48f1164663"
      },
      "outputs": [
        {
          "output_type": "stream",
          "name": "stdout",
          "text": [
            "<class 'pandas.core.frame.DataFrame'>\n",
            "RangeIndex: 10127 entries, 0 to 10126\n",
            "Data columns (total 23 columns):\n",
            " #   Column                                                                                                                              Non-Null Count  Dtype  \n",
            "---  ------                                                                                                                              --------------  -----  \n",
            " 0   CLIENTNUM                                                                                                                           10127 non-null  int64  \n",
            " 1   Attrition_Flag                                                                                                                      10127 non-null  object \n",
            " 2   Customer_Age                                                                                                                        10127 non-null  int64  \n",
            " 3   Gender                                                                                                                              10127 non-null  object \n",
            " 4   Dependent_count                                                                                                                     10127 non-null  int64  \n",
            " 5   Education_Level                                                                                                                     10127 non-null  object \n",
            " 6   Marital_Status                                                                                                                      10127 non-null  object \n",
            " 7   Income_Category                                                                                                                     10127 non-null  object \n",
            " 8   Card_Category                                                                                                                       10127 non-null  object \n",
            " 9   Months_on_book                                                                                                                      10127 non-null  int64  \n",
            " 10  Total_Relationship_Count                                                                                                            10127 non-null  int64  \n",
            " 11  Months_Inactive_12_mon                                                                                                              10127 non-null  int64  \n",
            " 12  Contacts_Count_12_mon                                                                                                               10127 non-null  int64  \n",
            " 13  Credit_Limit                                                                                                                        10127 non-null  float64\n",
            " 14  Total_Revolving_Bal                                                                                                                 10127 non-null  int64  \n",
            " 15  Avg_Open_To_Buy                                                                                                                     10127 non-null  float64\n",
            " 16  Total_Amt_Chng_Q4_Q1                                                                                                                10127 non-null  object \n",
            " 17  Total_Trans_Amt                                                                                                                     10127 non-null  int64  \n",
            " 18  Total_Trans_Ct                                                                                                                      10127 non-null  int64  \n",
            " 19  Total_Ct_Chng_Q4_Q1                                                                                                                 10127 non-null  object \n",
            " 20  Avg_Utilization_Ratio                                                                                                               10127 non-null  float64\n",
            " 21  Naive_Bayes_Classifier_Attrition_Flag_Card_Category_Contacts_Count_12_mon_Dependent_count_Education_Level_Months_Inactive_12_mon_1  10127 non-null  float64\n",
            " 22  Naive_Bayes_Classifier_Attrition_Flag_Card_Category_Contacts_Count_12_mon_Dependent_count_Education_Level_Months_Inactive_12_mon_2  10127 non-null  float64\n",
            "dtypes: float64(5), int64(10), object(8)\n",
            "memory usage: 1.8+ MB\n"
          ]
        }
      ],
      "source": [
        "df.info()"
      ]
    },
    {
      "cell_type": "code",
      "execution_count": 6,
      "metadata": {
        "colab": {
          "base_uri": "https://localhost:8080/",
          "height": 320
        },
        "id": "9JGH1L8EiAgY",
        "outputId": "26b12ede-e49b-4c95-ae32-b76f8d7d4099"
      },
      "outputs": [
        {
          "output_type": "execute_result",
          "data": {
            "text/plain": [
              "          CLIENTNUM  Customer_Age  Dependent_count  Months_on_book  \\\n",
              "count  1.012700e+04  10127.000000     10127.000000    10127.000000   \n",
              "mean   7.391776e+08     46.325960         2.346203       35.928409   \n",
              "std    3.690378e+07      8.016814         1.298908        7.986416   \n",
              "min    7.080821e+08     26.000000         0.000000       13.000000   \n",
              "25%    7.130368e+08     41.000000         1.000000       31.000000   \n",
              "50%    7.179264e+08     46.000000         2.000000       36.000000   \n",
              "75%    7.731435e+08     52.000000         3.000000       40.000000   \n",
              "max    8.283431e+08     73.000000         5.000000       56.000000   \n",
              "\n",
              "       Total_Relationship_Count  Months_Inactive_12_mon  \\\n",
              "count              10127.000000            10127.000000   \n",
              "mean                   3.812580                2.341167   \n",
              "std                    1.554408                1.010622   \n",
              "min                    1.000000                0.000000   \n",
              "25%                    3.000000                2.000000   \n",
              "50%                    4.000000                2.000000   \n",
              "75%                    5.000000                3.000000   \n",
              "max                    6.000000                6.000000   \n",
              "\n",
              "       Contacts_Count_12_mon  Credit_Limit  Total_Revolving_Bal  \\\n",
              "count           10127.000000  10127.000000         10127.000000   \n",
              "mean                2.455317   8631.953698          1162.814061   \n",
              "std                 1.106225   9088.776650           814.987335   \n",
              "min                 0.000000   1438.300000             0.000000   \n",
              "25%                 2.000000   2555.000000           359.000000   \n",
              "50%                 2.000000   4549.000000          1276.000000   \n",
              "75%                 3.000000  11067.500000          1784.000000   \n",
              "max                 6.000000  34516.000000          2517.000000   \n",
              "\n",
              "       Avg_Open_To_Buy  Total_Trans_Amt  Total_Trans_Ct  \\\n",
              "count     10127.000000     10127.000000    10127.000000   \n",
              "mean       7469.139637      4404.086304       64.858695   \n",
              "std        9090.685324      3397.129254       23.472570   \n",
              "min           3.000000       510.000000       10.000000   \n",
              "25%        1324.500000      2155.500000       45.000000   \n",
              "50%        3474.000000      3899.000000       67.000000   \n",
              "75%        9859.000000      4741.000000       81.000000   \n",
              "max       34516.000000     18484.000000      139.000000   \n",
              "\n",
              "       Avg_Utilization_Ratio  \\\n",
              "count           10127.000000   \n",
              "mean              247.333503   \n",
              "std               274.452904   \n",
              "min                 0.000000   \n",
              "25%                 0.060000   \n",
              "50%               132.000000   \n",
              "75%               463.000000   \n",
              "max               999.000000   \n",
              "\n",
              "       Naive_Bayes_Classifier_Attrition_Flag_Card_Category_Contacts_Count_12_mon_Dependent_count_Education_Level_Months_Inactive_12_mon_1  \\\n",
              "count                                       10127.000000                                                                                    \n",
              "mean                                        27137.184116                                                                                    \n",
              "std                                         32749.533730                                                                                    \n",
              "min                                             0.000029                                                                                    \n",
              "25%                                             0.989830                                                                                    \n",
              "50%                                         16471.000000                                                                                    \n",
              "75%                                         31726.000000                                                                                    \n",
              "max                                         99958.000000                                                                                    \n",
              "\n",
              "       Naive_Bayes_Classifier_Attrition_Flag_Card_Category_Contacts_Count_12_mon_Dependent_count_Education_Level_Months_Inactive_12_mon_2  \n",
              "count                                       10127.000000                                                                                   \n",
              "mean                                       100215.496101                                                                                   \n",
              "std                                         73990.590330                                                                                   \n",
              "min                                             0.010000                                                                                   \n",
              "25%                                         99965.000000                                                                                   \n",
              "50%                                         99983.000000                                                                                   \n",
              "75%                                         99993.000000                                                                                   \n",
              "max                                        499338.000000                                                                                   "
            ],
            "text/html": [
              "\n",
              "  <div id=\"df-d97ea622-ea76-49ea-bc71-5acf56c33629\" class=\"colab-df-container\">\n",
              "    <div>\n",
              "<style scoped>\n",
              "    .dataframe tbody tr th:only-of-type {\n",
              "        vertical-align: middle;\n",
              "    }\n",
              "\n",
              "    .dataframe tbody tr th {\n",
              "        vertical-align: top;\n",
              "    }\n",
              "\n",
              "    .dataframe thead th {\n",
              "        text-align: right;\n",
              "    }\n",
              "</style>\n",
              "<table border=\"1\" class=\"dataframe\">\n",
              "  <thead>\n",
              "    <tr style=\"text-align: right;\">\n",
              "      <th></th>\n",
              "      <th>CLIENTNUM</th>\n",
              "      <th>Customer_Age</th>\n",
              "      <th>Dependent_count</th>\n",
              "      <th>Months_on_book</th>\n",
              "      <th>Total_Relationship_Count</th>\n",
              "      <th>Months_Inactive_12_mon</th>\n",
              "      <th>Contacts_Count_12_mon</th>\n",
              "      <th>Credit_Limit</th>\n",
              "      <th>Total_Revolving_Bal</th>\n",
              "      <th>Avg_Open_To_Buy</th>\n",
              "      <th>Total_Trans_Amt</th>\n",
              "      <th>Total_Trans_Ct</th>\n",
              "      <th>Avg_Utilization_Ratio</th>\n",
              "      <th>Naive_Bayes_Classifier_Attrition_Flag_Card_Category_Contacts_Count_12_mon_Dependent_count_Education_Level_Months_Inactive_12_mon_1</th>\n",
              "      <th>Naive_Bayes_Classifier_Attrition_Flag_Card_Category_Contacts_Count_12_mon_Dependent_count_Education_Level_Months_Inactive_12_mon_2</th>\n",
              "    </tr>\n",
              "  </thead>\n",
              "  <tbody>\n",
              "    <tr>\n",
              "      <th>count</th>\n",
              "      <td>1.012700e+04</td>\n",
              "      <td>10127.000000</td>\n",
              "      <td>10127.000000</td>\n",
              "      <td>10127.000000</td>\n",
              "      <td>10127.000000</td>\n",
              "      <td>10127.000000</td>\n",
              "      <td>10127.000000</td>\n",
              "      <td>10127.000000</td>\n",
              "      <td>10127.000000</td>\n",
              "      <td>10127.000000</td>\n",
              "      <td>10127.000000</td>\n",
              "      <td>10127.000000</td>\n",
              "      <td>10127.000000</td>\n",
              "      <td>10127.000000</td>\n",
              "      <td>10127.000000</td>\n",
              "    </tr>\n",
              "    <tr>\n",
              "      <th>mean</th>\n",
              "      <td>7.391776e+08</td>\n",
              "      <td>46.325960</td>\n",
              "      <td>2.346203</td>\n",
              "      <td>35.928409</td>\n",
              "      <td>3.812580</td>\n",
              "      <td>2.341167</td>\n",
              "      <td>2.455317</td>\n",
              "      <td>8631.953698</td>\n",
              "      <td>1162.814061</td>\n",
              "      <td>7469.139637</td>\n",
              "      <td>4404.086304</td>\n",
              "      <td>64.858695</td>\n",
              "      <td>247.333503</td>\n",
              "      <td>27137.184116</td>\n",
              "      <td>100215.496101</td>\n",
              "    </tr>\n",
              "    <tr>\n",
              "      <th>std</th>\n",
              "      <td>3.690378e+07</td>\n",
              "      <td>8.016814</td>\n",
              "      <td>1.298908</td>\n",
              "      <td>7.986416</td>\n",
              "      <td>1.554408</td>\n",
              "      <td>1.010622</td>\n",
              "      <td>1.106225</td>\n",
              "      <td>9088.776650</td>\n",
              "      <td>814.987335</td>\n",
              "      <td>9090.685324</td>\n",
              "      <td>3397.129254</td>\n",
              "      <td>23.472570</td>\n",
              "      <td>274.452904</td>\n",
              "      <td>32749.533730</td>\n",
              "      <td>73990.590330</td>\n",
              "    </tr>\n",
              "    <tr>\n",
              "      <th>min</th>\n",
              "      <td>7.080821e+08</td>\n",
              "      <td>26.000000</td>\n",
              "      <td>0.000000</td>\n",
              "      <td>13.000000</td>\n",
              "      <td>1.000000</td>\n",
              "      <td>0.000000</td>\n",
              "      <td>0.000000</td>\n",
              "      <td>1438.300000</td>\n",
              "      <td>0.000000</td>\n",
              "      <td>3.000000</td>\n",
              "      <td>510.000000</td>\n",
              "      <td>10.000000</td>\n",
              "      <td>0.000000</td>\n",
              "      <td>0.000029</td>\n",
              "      <td>0.010000</td>\n",
              "    </tr>\n",
              "    <tr>\n",
              "      <th>25%</th>\n",
              "      <td>7.130368e+08</td>\n",
              "      <td>41.000000</td>\n",
              "      <td>1.000000</td>\n",
              "      <td>31.000000</td>\n",
              "      <td>3.000000</td>\n",
              "      <td>2.000000</td>\n",
              "      <td>2.000000</td>\n",
              "      <td>2555.000000</td>\n",
              "      <td>359.000000</td>\n",
              "      <td>1324.500000</td>\n",
              "      <td>2155.500000</td>\n",
              "      <td>45.000000</td>\n",
              "      <td>0.060000</td>\n",
              "      <td>0.989830</td>\n",
              "      <td>99965.000000</td>\n",
              "    </tr>\n",
              "    <tr>\n",
              "      <th>50%</th>\n",
              "      <td>7.179264e+08</td>\n",
              "      <td>46.000000</td>\n",
              "      <td>2.000000</td>\n",
              "      <td>36.000000</td>\n",
              "      <td>4.000000</td>\n",
              "      <td>2.000000</td>\n",
              "      <td>2.000000</td>\n",
              "      <td>4549.000000</td>\n",
              "      <td>1276.000000</td>\n",
              "      <td>3474.000000</td>\n",
              "      <td>3899.000000</td>\n",
              "      <td>67.000000</td>\n",
              "      <td>132.000000</td>\n",
              "      <td>16471.000000</td>\n",
              "      <td>99983.000000</td>\n",
              "    </tr>\n",
              "    <tr>\n",
              "      <th>75%</th>\n",
              "      <td>7.731435e+08</td>\n",
              "      <td>52.000000</td>\n",
              "      <td>3.000000</td>\n",
              "      <td>40.000000</td>\n",
              "      <td>5.000000</td>\n",
              "      <td>3.000000</td>\n",
              "      <td>3.000000</td>\n",
              "      <td>11067.500000</td>\n",
              "      <td>1784.000000</td>\n",
              "      <td>9859.000000</td>\n",
              "      <td>4741.000000</td>\n",
              "      <td>81.000000</td>\n",
              "      <td>463.000000</td>\n",
              "      <td>31726.000000</td>\n",
              "      <td>99993.000000</td>\n",
              "    </tr>\n",
              "    <tr>\n",
              "      <th>max</th>\n",
              "      <td>8.283431e+08</td>\n",
              "      <td>73.000000</td>\n",
              "      <td>5.000000</td>\n",
              "      <td>56.000000</td>\n",
              "      <td>6.000000</td>\n",
              "      <td>6.000000</td>\n",
              "      <td>6.000000</td>\n",
              "      <td>34516.000000</td>\n",
              "      <td>2517.000000</td>\n",
              "      <td>34516.000000</td>\n",
              "      <td>18484.000000</td>\n",
              "      <td>139.000000</td>\n",
              "      <td>999.000000</td>\n",
              "      <td>99958.000000</td>\n",
              "      <td>499338.000000</td>\n",
              "    </tr>\n",
              "  </tbody>\n",
              "</table>\n",
              "</div>\n",
              "    <div class=\"colab-df-buttons\">\n",
              "\n",
              "  <div class=\"colab-df-container\">\n",
              "    <button class=\"colab-df-convert\" onclick=\"convertToInteractive('df-d97ea622-ea76-49ea-bc71-5acf56c33629')\"\n",
              "            title=\"Convert this dataframe to an interactive table.\"\n",
              "            style=\"display:none;\">\n",
              "\n",
              "  <svg xmlns=\"http://www.w3.org/2000/svg\" height=\"24px\" viewBox=\"0 -960 960 960\">\n",
              "    <path d=\"M120-120v-720h720v720H120Zm60-500h600v-160H180v160Zm220 220h160v-160H400v160Zm0 220h160v-160H400v160ZM180-400h160v-160H180v160Zm440 0h160v-160H620v160ZM180-180h160v-160H180v160Zm440 0h160v-160H620v160Z\"/>\n",
              "  </svg>\n",
              "    </button>\n",
              "\n",
              "  <style>\n",
              "    .colab-df-container {\n",
              "      display:flex;\n",
              "      gap: 12px;\n",
              "    }\n",
              "\n",
              "    .colab-df-convert {\n",
              "      background-color: #E8F0FE;\n",
              "      border: none;\n",
              "      border-radius: 50%;\n",
              "      cursor: pointer;\n",
              "      display: none;\n",
              "      fill: #1967D2;\n",
              "      height: 32px;\n",
              "      padding: 0 0 0 0;\n",
              "      width: 32px;\n",
              "    }\n",
              "\n",
              "    .colab-df-convert:hover {\n",
              "      background-color: #E2EBFA;\n",
              "      box-shadow: 0px 1px 2px rgba(60, 64, 67, 0.3), 0px 1px 3px 1px rgba(60, 64, 67, 0.15);\n",
              "      fill: #174EA6;\n",
              "    }\n",
              "\n",
              "    .colab-df-buttons div {\n",
              "      margin-bottom: 4px;\n",
              "    }\n",
              "\n",
              "    [theme=dark] .colab-df-convert {\n",
              "      background-color: #3B4455;\n",
              "      fill: #D2E3FC;\n",
              "    }\n",
              "\n",
              "    [theme=dark] .colab-df-convert:hover {\n",
              "      background-color: #434B5C;\n",
              "      box-shadow: 0px 1px 3px 1px rgba(0, 0, 0, 0.15);\n",
              "      filter: drop-shadow(0px 1px 2px rgba(0, 0, 0, 0.3));\n",
              "      fill: #FFFFFF;\n",
              "    }\n",
              "  </style>\n",
              "\n",
              "    <script>\n",
              "      const buttonEl =\n",
              "        document.querySelector('#df-d97ea622-ea76-49ea-bc71-5acf56c33629 button.colab-df-convert');\n",
              "      buttonEl.style.display =\n",
              "        google.colab.kernel.accessAllowed ? 'block' : 'none';\n",
              "\n",
              "      async function convertToInteractive(key) {\n",
              "        const element = document.querySelector('#df-d97ea622-ea76-49ea-bc71-5acf56c33629');\n",
              "        const dataTable =\n",
              "          await google.colab.kernel.invokeFunction('convertToInteractive',\n",
              "                                                    [key], {});\n",
              "        if (!dataTable) return;\n",
              "\n",
              "        const docLinkHtml = 'Like what you see? Visit the ' +\n",
              "          '<a target=\"_blank\" href=https://colab.research.google.com/notebooks/data_table.ipynb>data table notebook</a>'\n",
              "          + ' to learn more about interactive tables.';\n",
              "        element.innerHTML = '';\n",
              "        dataTable['output_type'] = 'display_data';\n",
              "        await google.colab.output.renderOutput(dataTable, element);\n",
              "        const docLink = document.createElement('div');\n",
              "        docLink.innerHTML = docLinkHtml;\n",
              "        element.appendChild(docLink);\n",
              "      }\n",
              "    </script>\n",
              "  </div>\n",
              "\n",
              "\n",
              "<div id=\"df-d30565b6-1fa7-4b07-bffb-bfa02519c78a\">\n",
              "  <button class=\"colab-df-quickchart\" onclick=\"quickchart('df-d30565b6-1fa7-4b07-bffb-bfa02519c78a')\"\n",
              "            title=\"Suggest charts\"\n",
              "            style=\"display:none;\">\n",
              "\n",
              "<svg xmlns=\"http://www.w3.org/2000/svg\" height=\"24px\"viewBox=\"0 0 24 24\"\n",
              "     width=\"24px\">\n",
              "    <g>\n",
              "        <path d=\"M19 3H5c-1.1 0-2 .9-2 2v14c0 1.1.9 2 2 2h14c1.1 0 2-.9 2-2V5c0-1.1-.9-2-2-2zM9 17H7v-7h2v7zm4 0h-2V7h2v10zm4 0h-2v-4h2v4z\"/>\n",
              "    </g>\n",
              "</svg>\n",
              "  </button>\n",
              "\n",
              "<style>\n",
              "  .colab-df-quickchart {\n",
              "      --bg-color: #E8F0FE;\n",
              "      --fill-color: #1967D2;\n",
              "      --hover-bg-color: #E2EBFA;\n",
              "      --hover-fill-color: #174EA6;\n",
              "      --disabled-fill-color: #AAA;\n",
              "      --disabled-bg-color: #DDD;\n",
              "  }\n",
              "\n",
              "  [theme=dark] .colab-df-quickchart {\n",
              "      --bg-color: #3B4455;\n",
              "      --fill-color: #D2E3FC;\n",
              "      --hover-bg-color: #434B5C;\n",
              "      --hover-fill-color: #FFFFFF;\n",
              "      --disabled-bg-color: #3B4455;\n",
              "      --disabled-fill-color: #666;\n",
              "  }\n",
              "\n",
              "  .colab-df-quickchart {\n",
              "    background-color: var(--bg-color);\n",
              "    border: none;\n",
              "    border-radius: 50%;\n",
              "    cursor: pointer;\n",
              "    display: none;\n",
              "    fill: var(--fill-color);\n",
              "    height: 32px;\n",
              "    padding: 0;\n",
              "    width: 32px;\n",
              "  }\n",
              "\n",
              "  .colab-df-quickchart:hover {\n",
              "    background-color: var(--hover-bg-color);\n",
              "    box-shadow: 0 1px 2px rgba(60, 64, 67, 0.3), 0 1px 3px 1px rgba(60, 64, 67, 0.15);\n",
              "    fill: var(--button-hover-fill-color);\n",
              "  }\n",
              "\n",
              "  .colab-df-quickchart-complete:disabled,\n",
              "  .colab-df-quickchart-complete:disabled:hover {\n",
              "    background-color: var(--disabled-bg-color);\n",
              "    fill: var(--disabled-fill-color);\n",
              "    box-shadow: none;\n",
              "  }\n",
              "\n",
              "  .colab-df-spinner {\n",
              "    border: 2px solid var(--fill-color);\n",
              "    border-color: transparent;\n",
              "    border-bottom-color: var(--fill-color);\n",
              "    animation:\n",
              "      spin 1s steps(1) infinite;\n",
              "  }\n",
              "\n",
              "  @keyframes spin {\n",
              "    0% {\n",
              "      border-color: transparent;\n",
              "      border-bottom-color: var(--fill-color);\n",
              "      border-left-color: var(--fill-color);\n",
              "    }\n",
              "    20% {\n",
              "      border-color: transparent;\n",
              "      border-left-color: var(--fill-color);\n",
              "      border-top-color: var(--fill-color);\n",
              "    }\n",
              "    30% {\n",
              "      border-color: transparent;\n",
              "      border-left-color: var(--fill-color);\n",
              "      border-top-color: var(--fill-color);\n",
              "      border-right-color: var(--fill-color);\n",
              "    }\n",
              "    40% {\n",
              "      border-color: transparent;\n",
              "      border-right-color: var(--fill-color);\n",
              "      border-top-color: var(--fill-color);\n",
              "    }\n",
              "    60% {\n",
              "      border-color: transparent;\n",
              "      border-right-color: var(--fill-color);\n",
              "    }\n",
              "    80% {\n",
              "      border-color: transparent;\n",
              "      border-right-color: var(--fill-color);\n",
              "      border-bottom-color: var(--fill-color);\n",
              "    }\n",
              "    90% {\n",
              "      border-color: transparent;\n",
              "      border-bottom-color: var(--fill-color);\n",
              "    }\n",
              "  }\n",
              "</style>\n",
              "\n",
              "  <script>\n",
              "    async function quickchart(key) {\n",
              "      const quickchartButtonEl =\n",
              "        document.querySelector('#' + key + ' button');\n",
              "      quickchartButtonEl.disabled = true;  // To prevent multiple clicks.\n",
              "      quickchartButtonEl.classList.add('colab-df-spinner');\n",
              "      try {\n",
              "        const charts = await google.colab.kernel.invokeFunction(\n",
              "            'suggestCharts', [key], {});\n",
              "      } catch (error) {\n",
              "        console.error('Error during call to suggestCharts:', error);\n",
              "      }\n",
              "      quickchartButtonEl.classList.remove('colab-df-spinner');\n",
              "      quickchartButtonEl.classList.add('colab-df-quickchart-complete');\n",
              "    }\n",
              "    (() => {\n",
              "      let quickchartButtonEl =\n",
              "        document.querySelector('#df-d30565b6-1fa7-4b07-bffb-bfa02519c78a button');\n",
              "      quickchartButtonEl.style.display =\n",
              "        google.colab.kernel.accessAllowed ? 'block' : 'none';\n",
              "    })();\n",
              "  </script>\n",
              "</div>\n",
              "\n",
              "    </div>\n",
              "  </div>\n"
            ],
            "application/vnd.google.colaboratory.intrinsic+json": {
              "type": "dataframe",
              "summary": "{\n  \"name\": \"df\",\n  \"rows\": 8,\n  \"fields\": [\n    {\n      \"column\": \"CLIENTNUM\",\n      \"properties\": {\n        \"dtype\": \"number\",\n        \"std\": 339512830.0563034,\n        \"min\": 10127.0,\n        \"max\": 828343083.0,\n        \"num_unique_values\": 8,\n        \"samples\": [\n          739177606.3336625,\n          717926358.0,\n          10127.0\n        ],\n        \"semantic_type\": \"\",\n        \"description\": \"\"\n      }\n    },\n    {\n      \"column\": \"Customer_Age\",\n      \"properties\": {\n        \"dtype\": \"number\",\n        \"std\": 3565.719870872902,\n        \"min\": 8.016814032549028,\n        \"max\": 10127.0,\n        \"num_unique_values\": 8,\n        \"samples\": [\n          46.32596030413745,\n          46.0,\n          10127.0\n        ],\n        \"semantic_type\": \"\",\n        \"description\": \"\"\n      }\n    },\n    {\n      \"column\": \"Dependent_count\",\n      \"properties\": {\n        \"dtype\": \"number\",\n        \"std\": 3579.6958070226437,\n        \"min\": 0.0,\n        \"max\": 10127.0,\n        \"num_unique_values\": 8,\n        \"samples\": [\n          2.3462032191172115,\n          2.0,\n          10127.0\n        ],\n        \"semantic_type\": \"\",\n        \"description\": \"\"\n      }\n    },\n    {\n      \"column\": \"Months_on_book\",\n      \"properties\": {\n        \"dtype\": \"number\",\n        \"std\": 3569.3599832978616,\n        \"min\": 7.986416330872062,\n        \"max\": 10127.0,\n        \"num_unique_values\": 8,\n        \"samples\": [\n          35.928409203120374,\n          36.0,\n          10127.0\n        ],\n        \"semantic_type\": \"\",\n        \"description\": \"\"\n      }\n    },\n    {\n      \"column\": \"Total_Relationship_Count\",\n      \"properties\": {\n        \"dtype\": \"number\",\n        \"std\": 3579.204849565556,\n        \"min\": 1.0,\n        \"max\": 10127.0,\n        \"num_unique_values\": 8,\n        \"samples\": [\n          3.8125802310654686,\n          4.0,\n          10127.0\n        ],\n        \"semantic_type\": \"\",\n        \"description\": \"\"\n      }\n    },\n    {\n      \"column\": \"Months_Inactive_12_mon\",\n      \"properties\": {\n        \"dtype\": \"number\",\n        \"std\": 3579.6097215744835,\n        \"min\": 0.0,\n        \"max\": 10127.0,\n        \"num_unique_values\": 7,\n        \"samples\": [\n          10127.0,\n          2.3411671768539546,\n          3.0\n        ],\n        \"semantic_type\": \"\",\n        \"description\": \"\"\n      }\n    },\n    {\n      \"column\": \"Contacts_Count_12_mon\",\n      \"properties\": {\n        \"dtype\": \"number\",\n        \"std\": 3579.5991227316104,\n        \"min\": 0.0,\n        \"max\": 10127.0,\n        \"num_unique_values\": 7,\n        \"samples\": [\n          10127.0,\n          2.4553174681544387,\n          3.0\n        ],\n        \"semantic_type\": \"\",\n        \"description\": \"\"\n      }\n    },\n    {\n      \"column\": \"Credit_Limit\",\n      \"properties\": {\n        \"dtype\": \"number\",\n        \"std\": 10439.274058388912,\n        \"min\": 1438.3,\n        \"max\": 34516.0,\n        \"num_unique_values\": 8,\n        \"samples\": [\n          8631.953698034955,\n          4549.0,\n          10127.0\n        ],\n        \"semantic_type\": \"\",\n        \"description\": \"\"\n      }\n    },\n    {\n      \"column\": \"Total_Revolving_Bal\",\n      \"properties\": {\n        \"dtype\": \"number\",\n        \"std\": 3276.8377072771545,\n        \"min\": 0.0,\n        \"max\": 10127.0,\n        \"num_unique_values\": 8,\n        \"samples\": [\n          1162.8140614199665,\n          1276.0,\n          10127.0\n        ],\n        \"semantic_type\": \"\",\n        \"description\": \"\"\n      }\n    },\n    {\n      \"column\": \"Avg_Open_To_Buy\",\n      \"properties\": {\n        \"dtype\": \"number\",\n        \"std\": 10849.334071476527,\n        \"min\": 3.0,\n        \"max\": 34516.0,\n        \"num_unique_values\": 8,\n        \"samples\": [\n          7469.139636614989,\n          3474.0,\n          10127.0\n        ],\n        \"semantic_type\": \"\",\n        \"description\": \"\"\n      }\n    },\n    {\n      \"column\": \"Total_Trans_Amt\",\n      \"properties\": {\n        \"dtype\": \"number\",\n        \"std\": 5770.786816057116,\n        \"min\": 510.0,\n        \"max\": 18484.0,\n        \"num_unique_values\": 8,\n        \"samples\": [\n          4404.086303939963,\n          3899.0,\n          10127.0\n        ],\n        \"semantic_type\": \"\",\n        \"description\": \"\"\n      }\n    },\n    {\n      \"column\": \"Total_Trans_Ct\",\n      \"properties\": {\n        \"dtype\": \"number\",\n        \"std\": 3558.916913530285,\n        \"min\": 10.0,\n        \"max\": 10127.0,\n        \"num_unique_values\": 8,\n        \"samples\": [\n          64.85869457884863,\n          67.0,\n          10127.0\n        ],\n        \"semantic_type\": \"\",\n        \"description\": \"\"\n      }\n    },\n    {\n      \"column\": \"Avg_Utilization_Ratio\",\n      \"properties\": {\n        \"dtype\": \"number\",\n        \"std\": 3488.4812545847312,\n        \"min\": 0.0,\n        \"max\": 10127.0,\n        \"num_unique_values\": 8,\n        \"samples\": [\n          247.33350251802113,\n          132.0,\n          10127.0\n        ],\n        \"semantic_type\": \"\",\n        \"description\": \"\"\n      }\n    },\n    {\n      \"column\": \"Naive_Bayes_Classifier_Attrition_Flag_Card_Category_Contacts_Count_12_mon_Dependent_count_Education_Level_Months_Inactive_12_mon_1\",\n      \"properties\": {\n        \"dtype\": \"number\",\n        \"std\": 32140.75486317737,\n        \"min\": 2.94e-05,\n        \"max\": 99958.0,\n        \"num_unique_values\": 8,\n        \"samples\": [\n          27137.184116257293,\n          16471.0,\n          10127.0\n        ],\n        \"semantic_type\": \"\",\n        \"description\": \"\"\n      }\n    },\n    {\n      \"column\": \"Naive_Bayes_Classifier_Attrition_Flag_Card_Category_Contacts_Count_12_mon_Dependent_count_Education_Level_Months_Inactive_12_mon_2\",\n      \"properties\": {\n        \"dtype\": \"number\",\n        \"std\": 157666.1728922887,\n        \"min\": 0.01,\n        \"max\": 499338.0,\n        \"num_unique_values\": 8,\n        \"samples\": [\n          100215.49610052335,\n          99983.0,\n          10127.0\n        ],\n        \"semantic_type\": \"\",\n        \"description\": \"\"\n      }\n    }\n  ]\n}"
            }
          },
          "metadata": {},
          "execution_count": 6
        }
      ],
      "source": [
        "df.describe()"
      ]
    },
    {
      "cell_type": "code",
      "execution_count": 7,
      "metadata": {
        "colab": {
          "base_uri": "https://localhost:8080/"
        },
        "id": "nsOjMjCdXl74",
        "outputId": "33a69feb-1e0e-4ab8-d1a0-7635bbcc0366"
      },
      "outputs": [
        {
          "output_type": "execute_result",
          "data": {
            "text/plain": [
              "CLIENTNUM                                                                                                                             0\n",
              "Attrition_Flag                                                                                                                        0\n",
              "Customer_Age                                                                                                                          0\n",
              "Gender                                                                                                                                0\n",
              "Dependent_count                                                                                                                       0\n",
              "Education_Level                                                                                                                       0\n",
              "Marital_Status                                                                                                                        0\n",
              "Income_Category                                                                                                                       0\n",
              "Card_Category                                                                                                                         0\n",
              "Months_on_book                                                                                                                        0\n",
              "Total_Relationship_Count                                                                                                              0\n",
              "Months_Inactive_12_mon                                                                                                                0\n",
              "Contacts_Count_12_mon                                                                                                                 0\n",
              "Credit_Limit                                                                                                                          0\n",
              "Total_Revolving_Bal                                                                                                                   0\n",
              "Avg_Open_To_Buy                                                                                                                       0\n",
              "Total_Amt_Chng_Q4_Q1                                                                                                                  0\n",
              "Total_Trans_Amt                                                                                                                       0\n",
              "Total_Trans_Ct                                                                                                                        0\n",
              "Total_Ct_Chng_Q4_Q1                                                                                                                   0\n",
              "Avg_Utilization_Ratio                                                                                                                 0\n",
              "Naive_Bayes_Classifier_Attrition_Flag_Card_Category_Contacts_Count_12_mon_Dependent_count_Education_Level_Months_Inactive_12_mon_1    0\n",
              "Naive_Bayes_Classifier_Attrition_Flag_Card_Category_Contacts_Count_12_mon_Dependent_count_Education_Level_Months_Inactive_12_mon_2    0\n",
              "dtype: int64"
            ]
          },
          "metadata": {},
          "execution_count": 7
        }
      ],
      "source": [
        "df.isnull().sum()"
      ]
    },
    {
      "cell_type": "markdown",
      "metadata": {
        "id": "lvA_H14lYt_T"
      },
      "source": [
        "VALORES DUPLICADOS"
      ]
    },
    {
      "cell_type": "code",
      "execution_count": 8,
      "metadata": {
        "colab": {
          "base_uri": "https://localhost:8080/"
        },
        "id": "PchTStmHQ5lE",
        "outputId": "ee5de1fb-44a5-4fa2-f403-8c66f1d4c68b"
      },
      "outputs": [
        {
          "output_type": "stream",
          "name": "stdout",
          "text": [
            "0\n"
          ]
        }
      ],
      "source": [
        "print(df.duplicated().sum())"
      ]
    },
    {
      "cell_type": "markdown",
      "metadata": {
        "id": "9ixkT8xnWrO-"
      },
      "source": [
        "COLUMNAS CATEGÓRICAS"
      ]
    },
    {
      "cell_type": "code",
      "execution_count": 9,
      "metadata": {
        "colab": {
          "base_uri": "https://localhost:8080/"
        },
        "id": "RhWiaFmrWGQy",
        "outputId": "b67c3e6c-58d2-43cc-e656-b61313c23873"
      },
      "outputs": [
        {
          "output_type": "stream",
          "name": "stdout",
          "text": [
            "Index(['Attrition_Flag', 'Gender', 'Education_Level', 'Marital_Status',\n",
            "       'Income_Category', 'Card_Category', 'Total_Amt_Chng_Q4_Q1',\n",
            "       'Total_Ct_Chng_Q4_Q1'],\n",
            "      dtype='object')\n"
          ]
        }
      ],
      "source": [
        "print(df.columns[df.dtypes == 'object'])"
      ]
    },
    {
      "cell_type": "markdown",
      "metadata": {
        "id": "D28CZx-uZjkL"
      },
      "source": [
        "COLUMNAS NUMÉRICAS"
      ]
    },
    {
      "cell_type": "code",
      "execution_count": 10,
      "metadata": {
        "colab": {
          "base_uri": "https://localhost:8080/"
        },
        "id": "YJrBDQTyWYJl",
        "outputId": "85740e0d-a339-49e4-bed2-285355a6a5a6"
      },
      "outputs": [
        {
          "output_type": "stream",
          "name": "stdout",
          "text": [
            "Index(['CLIENTNUM', 'Customer_Age', 'Dependent_count', 'Months_on_book',\n",
            "       'Total_Relationship_Count', 'Months_Inactive_12_mon',\n",
            "       'Contacts_Count_12_mon', 'Credit_Limit', 'Total_Revolving_Bal',\n",
            "       'Avg_Open_To_Buy', 'Total_Trans_Amt', 'Total_Trans_Ct',\n",
            "       'Avg_Utilization_Ratio',\n",
            "       'Naive_Bayes_Classifier_Attrition_Flag_Card_Category_Contacts_Count_12_mon_Dependent_count_Education_Level_Months_Inactive_12_mon_1',\n",
            "       'Naive_Bayes_Classifier_Attrition_Flag_Card_Category_Contacts_Count_12_mon_Dependent_count_Education_Level_Months_Inactive_12_mon_2'],\n",
            "      dtype='object')\n"
          ]
        }
      ],
      "source": [
        "print(df.columns[df.dtypes != 'object'])"
      ]
    },
    {
      "cell_type": "code",
      "source": [
        "df['Attrition_Flag'].value_counts()"
      ],
      "metadata": {
        "colab": {
          "base_uri": "https://localhost:8080/"
        },
        "id": "i6ax8faKnWJY",
        "outputId": "10d3d2d2-8ef0-4208-c546-256cacb5f2c8"
      },
      "execution_count": 11,
      "outputs": [
        {
          "output_type": "execute_result",
          "data": {
            "text/plain": [
              "Attrition_Flag\n",
              "Existing Customer    8500\n",
              "Attrited Customer    1627\n",
              "Name: count, dtype: int64"
            ]
          },
          "metadata": {},
          "execution_count": 11
        }
      ]
    },
    {
      "cell_type": "code",
      "execution_count": 12,
      "metadata": {
        "colab": {
          "base_uri": "https://localhost:8080/"
        },
        "id": "PANIX4hqZckC",
        "outputId": "ea04ad9e-f44f-4577-b218-e80e5586e2ef"
      },
      "outputs": [
        {
          "output_type": "execute_result",
          "data": {
            "text/plain": [
              "Gender\n",
              "F    5358\n",
              "M    4769\n",
              "Name: count, dtype: int64"
            ]
          },
          "metadata": {},
          "execution_count": 12
        }
      ],
      "source": [
        "df['Gender'].value_counts()"
      ]
    },
    {
      "cell_type": "code",
      "execution_count": 13,
      "metadata": {
        "colab": {
          "base_uri": "https://localhost:8080/"
        },
        "id": "vlyuy2gqZrOZ",
        "outputId": "852a4725-cec3-4a8c-d83a-cb4fcafee381"
      },
      "outputs": [
        {
          "output_type": "execute_result",
          "data": {
            "text/plain": [
              "Education_Level\n",
              "Graduate         3128\n",
              "High School      2013\n",
              "Unknown          1519\n",
              "Uneducated       1487\n",
              "College          1013\n",
              "Post-Graduate     516\n",
              "Doctorate         451\n",
              "Name: count, dtype: int64"
            ]
          },
          "metadata": {},
          "execution_count": 13
        }
      ],
      "source": [
        "df['Education_Level'].value_counts()"
      ]
    },
    {
      "cell_type": "code",
      "execution_count": 14,
      "metadata": {
        "colab": {
          "base_uri": "https://localhost:8080/"
        },
        "id": "Bn-pIth3aS0m",
        "outputId": "c3592222-a6a6-47d1-9cfb-2fb946e96606"
      },
      "outputs": [
        {
          "output_type": "execute_result",
          "data": {
            "text/plain": [
              "Marital_Status\n",
              "Married     4687\n",
              "Single      3943\n",
              "Unknown      749\n",
              "Divorced     748\n",
              "Name: count, dtype: int64"
            ]
          },
          "metadata": {},
          "execution_count": 14
        }
      ],
      "source": [
        "df['Marital_Status'].value_counts()"
      ]
    },
    {
      "cell_type": "code",
      "execution_count": 15,
      "metadata": {
        "colab": {
          "base_uri": "https://localhost:8080/"
        },
        "id": "FweVU3UCaTYM",
        "outputId": "1e6ee038-777b-46ea-e7f9-5bbaa67f49de"
      },
      "outputs": [
        {
          "output_type": "execute_result",
          "data": {
            "text/plain": [
              "Income_Category\n",
              "Less than $40K    3561\n",
              "$40K - $60K       1790\n",
              "$80K - $120K      1535\n",
              "$60K - $80K       1402\n",
              "Unknown           1112\n",
              "$120K +            727\n",
              "Name: count, dtype: int64"
            ]
          },
          "metadata": {},
          "execution_count": 15
        }
      ],
      "source": [
        "df['Income_Category'].value_counts()"
      ]
    },
    {
      "cell_type": "code",
      "execution_count": 16,
      "metadata": {
        "colab": {
          "base_uri": "https://localhost:8080/"
        },
        "id": "Cjm0cDPPaTdk",
        "outputId": "c9395e34-0ed5-4d09-b7cb-d245abe7dc29"
      },
      "outputs": [
        {
          "output_type": "execute_result",
          "data": {
            "text/plain": [
              "Card_Category\n",
              "Blue        9436\n",
              "Silver       555\n",
              "Gold         116\n",
              "Platinum      20\n",
              "Name: count, dtype: int64"
            ]
          },
          "metadata": {},
          "execution_count": 16
        }
      ],
      "source": [
        "df['Card_Category'].value_counts()"
      ]
    },
    {
      "cell_type": "code",
      "execution_count": 17,
      "metadata": {
        "id": "QMClv3-Uaa3K"
      },
      "outputs": [],
      "source": [
        "assert df['Total_Amt_Chng_Q4_Q1'].dtype == 'object'"
      ]
    },
    {
      "cell_type": "markdown",
      "metadata": {
        "id": "9W9TcqlVd0Cg"
      },
      "source": [
        "CORRECIÓN DE CATEGORÍAS"
      ]
    },
    {
      "cell_type": "code",
      "execution_count": 18,
      "metadata": {
        "id": "mQf9xeivcyJ2"
      },
      "outputs": [],
      "source": [
        "# Create a sample DataFrame with a datetime column\n",
        "data = df['Total_Amt_Chng_Q4_Q1']\n",
        "dffecha = pd.DataFrame(data)\n",
        "\n",
        "# Iterate through rows and find the index of rows with datetime type\n",
        "for index, row in dffecha.iterrows():\n",
        "    if isinstance(row['Total_Amt_Chng_Q4_Q1'], pd.Timestamp):\n",
        "        dffecha.loc[index, 'Total_Amt_Chng_Q4_Q1'] = np.nan\n",
        "        #print(f\"Row with index {index} is of datetime type.\")"
      ]
    },
    {
      "cell_type": "code",
      "execution_count": 19,
      "metadata": {
        "colab": {
          "base_uri": "https://localhost:8080/"
        },
        "id": "jalWh46vcyP2",
        "outputId": "6674a6cb-405a-4ab9-ffd9-de5cf41f592b"
      },
      "outputs": [
        {
          "output_type": "execute_result",
          "data": {
            "text/plain": [
              "Total_Amt_Chng_Q4_Q1    57\n",
              "dtype: int64"
            ]
          },
          "metadata": {},
          "execution_count": 19
        }
      ],
      "source": [
        "dffecha.isna().sum()"
      ]
    },
    {
      "cell_type": "code",
      "execution_count": 20,
      "metadata": {
        "id": "EULmKNROa3PN"
      },
      "outputs": [],
      "source": [
        "dffecha['Total_Amt_Chng_Q4_Q1'] = pd.to_numeric(dffecha['Total_Amt_Chng_Q4_Q1'])\n",
        "dffecha['Total_Amt_Chng_Q4_Q1'].fillna(value=dffecha['Total_Amt_Chng_Q4_Q1'].mean(), inplace=True)\n",
        "df['Total_Amt_Chng_Q4_Q1'] = dffecha['Total_Amt_Chng_Q4_Q1']"
      ]
    },
    {
      "cell_type": "code",
      "execution_count": 21,
      "metadata": {
        "colab": {
          "base_uri": "https://localhost:8080/"
        },
        "id": "dHS3cc73eHww",
        "outputId": "fbd51843-fbec-4c29-f118-a58228851350"
      },
      "outputs": [
        {
          "output_type": "stream",
          "name": "stdout",
          "text": [
            "<class 'pandas.core.series.Series'>\n",
            "RangeIndex: 10127 entries, 0 to 10126\n",
            "Series name: Total_Amt_Chng_Q4_Q1\n",
            "Non-Null Count  Dtype  \n",
            "--------------  -----  \n",
            "10127 non-null  float64\n",
            "dtypes: float64(1)\n",
            "memory usage: 79.2 KB\n"
          ]
        }
      ],
      "source": [
        "df['Total_Amt_Chng_Q4_Q1'].info()"
      ]
    },
    {
      "cell_type": "code",
      "execution_count": 22,
      "metadata": {
        "id": "i37TPvOFeH0A"
      },
      "outputs": [],
      "source": [
        "# Create a sample DataFrame with a datetime column\n",
        "data2 = df['Total_Ct_Chng_Q4_Q1']\n",
        "dffecha2 = pd.DataFrame(data2)\n",
        "\n",
        "# Iterate through rows and find the index of rows with datetime type\n",
        "for index, row in dffecha2.iterrows():\n",
        "    if isinstance(row['Total_Ct_Chng_Q4_Q1'], pd.Timestamp):\n",
        "        dffecha2.loc[index, 'Total_Ct_Chng_Q4_Q1'] = np.nan\n",
        "        #print(f\"Row with index {index} is of datetime type.\")"
      ]
    },
    {
      "cell_type": "code",
      "execution_count": 23,
      "metadata": {
        "colab": {
          "base_uri": "https://localhost:8080/"
        },
        "id": "U1WtAY-GeU0r",
        "outputId": "89498b70-b6e7-4b12-e177-16f8befb9b56"
      },
      "outputs": [
        {
          "output_type": "execute_result",
          "data": {
            "text/plain": [
              "Total_Ct_Chng_Q4_Q1    74\n",
              "dtype: int64"
            ]
          },
          "metadata": {},
          "execution_count": 23
        }
      ],
      "source": [
        "dffecha2.isna().sum()"
      ]
    },
    {
      "cell_type": "code",
      "execution_count": 24,
      "metadata": {
        "id": "sbMjM4-5enHl"
      },
      "outputs": [],
      "source": [
        "dffecha2['Total_Ct_Chng_Q4_Q1'] = pd.to_numeric(dffecha2['Total_Ct_Chng_Q4_Q1'])\n",
        "dffecha2['Total_Ct_Chng_Q4_Q1'].fillna(value=dffecha2['Total_Ct_Chng_Q4_Q1'].mean(), inplace=True)\n",
        "df['Total_Ct_Chng_Q4_Q1'] = dffecha2['Total_Ct_Chng_Q4_Q1']"
      ]
    },
    {
      "cell_type": "code",
      "execution_count": 25,
      "metadata": {
        "colab": {
          "base_uri": "https://localhost:8080/"
        },
        "id": "4JQsUxulenMb",
        "outputId": "b4acc44e-cbfb-47f2-d0c0-97eaf6d87cdf"
      },
      "outputs": [
        {
          "output_type": "stream",
          "name": "stdout",
          "text": [
            "<class 'pandas.core.series.Series'>\n",
            "RangeIndex: 10127 entries, 0 to 10126\n",
            "Series name: Total_Ct_Chng_Q4_Q1\n",
            "Non-Null Count  Dtype  \n",
            "--------------  -----  \n",
            "10127 non-null  float64\n",
            "dtypes: float64(1)\n",
            "memory usage: 79.2 KB\n"
          ]
        }
      ],
      "source": [
        "df['Total_Ct_Chng_Q4_Q1'].info()"
      ]
    },
    {
      "cell_type": "code",
      "execution_count": 26,
      "metadata": {
        "colab": {
          "base_uri": "https://localhost:8080/"
        },
        "id": "8cDEU7Zaey2-",
        "outputId": "90cffb47-f120-4d12-d2ad-81b88dc90c55"
      },
      "outputs": [
        {
          "output_type": "stream",
          "name": "stdout",
          "text": [
            "<class 'pandas.core.frame.DataFrame'>\n",
            "RangeIndex: 10127 entries, 0 to 10126\n",
            "Data columns (total 2 columns):\n",
            " #   Column                Non-Null Count  Dtype  \n",
            "---  ------                --------------  -----  \n",
            " 0   Total_Amt_Chng_Q4_Q1  10127 non-null  float64\n",
            " 1   Total_Ct_Chng_Q4_Q1   10127 non-null  float64\n",
            "dtypes: float64(2)\n",
            "memory usage: 158.4 KB\n"
          ]
        }
      ],
      "source": [
        "df[['Total_Amt_Chng_Q4_Q1','Total_Ct_Chng_Q4_Q1']].info()"
      ]
    },
    {
      "cell_type": "code",
      "execution_count": 27,
      "metadata": {
        "colab": {
          "base_uri": "https://localhost:8080/"
        },
        "id": "-oP8Z3Vof1Ff",
        "outputId": "aadd9d4a-ed72-4a07-d685-6a154c936ca2"
      },
      "outputs": [
        {
          "output_type": "stream",
          "name": "stdout",
          "text": [
            "<class 'pandas.core.frame.DataFrame'>\n",
            "RangeIndex: 10127 entries, 0 to 10126\n",
            "Data columns (total 23 columns):\n",
            " #   Column                                                                                                                              Non-Null Count  Dtype  \n",
            "---  ------                                                                                                                              --------------  -----  \n",
            " 0   CLIENTNUM                                                                                                                           10127 non-null  int64  \n",
            " 1   Attrition_Flag                                                                                                                      10127 non-null  object \n",
            " 2   Customer_Age                                                                                                                        10127 non-null  int64  \n",
            " 3   Gender                                                                                                                              10127 non-null  object \n",
            " 4   Dependent_count                                                                                                                     10127 non-null  int64  \n",
            " 5   Education_Level                                                                                                                     10127 non-null  object \n",
            " 6   Marital_Status                                                                                                                      10127 non-null  object \n",
            " 7   Income_Category                                                                                                                     10127 non-null  object \n",
            " 8   Card_Category                                                                                                                       10127 non-null  object \n",
            " 9   Months_on_book                                                                                                                      10127 non-null  int64  \n",
            " 10  Total_Relationship_Count                                                                                                            10127 non-null  int64  \n",
            " 11  Months_Inactive_12_mon                                                                                                              10127 non-null  int64  \n",
            " 12  Contacts_Count_12_mon                                                                                                               10127 non-null  int64  \n",
            " 13  Credit_Limit                                                                                                                        10127 non-null  float64\n",
            " 14  Total_Revolving_Bal                                                                                                                 10127 non-null  int64  \n",
            " 15  Avg_Open_To_Buy                                                                                                                     10127 non-null  float64\n",
            " 16  Total_Amt_Chng_Q4_Q1                                                                                                                10127 non-null  float64\n",
            " 17  Total_Trans_Amt                                                                                                                     10127 non-null  int64  \n",
            " 18  Total_Trans_Ct                                                                                                                      10127 non-null  int64  \n",
            " 19  Total_Ct_Chng_Q4_Q1                                                                                                                 10127 non-null  float64\n",
            " 20  Avg_Utilization_Ratio                                                                                                               10127 non-null  float64\n",
            " 21  Naive_Bayes_Classifier_Attrition_Flag_Card_Category_Contacts_Count_12_mon_Dependent_count_Education_Level_Months_Inactive_12_mon_1  10127 non-null  float64\n",
            " 22  Naive_Bayes_Classifier_Attrition_Flag_Card_Category_Contacts_Count_12_mon_Dependent_count_Education_Level_Months_Inactive_12_mon_2  10127 non-null  float64\n",
            "dtypes: float64(7), int64(10), object(6)\n",
            "memory usage: 1.8+ MB\n"
          ]
        }
      ],
      "source": [
        "df.info()"
      ]
    },
    {
      "cell_type": "markdown",
      "metadata": {
        "id": "ai0Nr49tgGMA"
      },
      "source": [
        "VERIFICACIÓN COLUMNAS NUMÉRICAS"
      ]
    },
    {
      "cell_type": "code",
      "execution_count": 28,
      "metadata": {
        "colab": {
          "base_uri": "https://localhost:8080/"
        },
        "id": "n15I6jvyey6p",
        "outputId": "bd7f7d5a-b11b-4023-b15e-5382b8651e03"
      },
      "outputs": [
        {
          "output_type": "execute_result",
          "data": {
            "text/plain": [
              "['CLIENTNUM',\n",
              " 'Customer_Age',\n",
              " 'Dependent_count',\n",
              " 'Months_on_book',\n",
              " 'Total_Relationship_Count',\n",
              " 'Months_Inactive_12_mon',\n",
              " 'Contacts_Count_12_mon',\n",
              " 'Credit_Limit',\n",
              " 'Total_Revolving_Bal',\n",
              " 'Avg_Open_To_Buy',\n",
              " 'Total_Amt_Chng_Q4_Q1',\n",
              " 'Total_Trans_Amt',\n",
              " 'Total_Trans_Ct',\n",
              " 'Total_Ct_Chng_Q4_Q1',\n",
              " 'Avg_Utilization_Ratio',\n",
              " 'Naive_Bayes_Classifier_Attrition_Flag_Card_Category_Contacts_Count_12_mon_Dependent_count_Education_Level_Months_Inactive_12_mon_1',\n",
              " 'Naive_Bayes_Classifier_Attrition_Flag_Card_Category_Contacts_Count_12_mon_Dependent_count_Education_Level_Months_Inactive_12_mon_2']"
            ]
          },
          "metadata": {},
          "execution_count": 28
        }
      ],
      "source": [
        "numerical = [col for col in df.columns if df[col].dtypes != 'O']\n",
        "numerical"
      ]
    },
    {
      "cell_type": "code",
      "execution_count": 29,
      "metadata": {
        "colab": {
          "base_uri": "https://localhost:8080/"
        },
        "id": "LMd7UFw_fAQ2",
        "outputId": "5c070c87-4bf9-47d9-b9d4-7ad74a245169"
      },
      "outputs": [
        {
          "output_type": "stream",
          "name": "stdout",
          "text": [
            "La columna CLIENTNUM tiene sus valores correctos\n",
            "La columna Customer_Age tiene sus valores correctos\n",
            "La columna Dependent_count tiene sus valores correctos\n",
            "La columna Months_on_book tiene sus valores correctos\n",
            "La columna Total_Relationship_Count tiene sus valores correctos\n",
            "La columna Months_Inactive_12_mon tiene sus valores correctos\n",
            "La columna Contacts_Count_12_mon tiene sus valores correctos\n",
            "La columna Credit_Limit tiene sus valores correctos\n",
            "La columna Total_Revolving_Bal tiene sus valores correctos\n",
            "La columna Avg_Open_To_Buy tiene sus valores correctos\n",
            "La columna Total_Amt_Chng_Q4_Q1 tiene sus valores correctos\n",
            "La columna Total_Trans_Amt tiene sus valores correctos\n",
            "La columna Total_Trans_Ct tiene sus valores correctos\n",
            "La columna Total_Ct_Chng_Q4_Q1 tiene sus valores correctos\n",
            "La columna Avg_Utilization_Ratio tiene sus valores correctos\n",
            "La columna Naive_Bayes_Classifier_Attrition_Flag_Card_Category_Contacts_Count_12_mon_Dependent_count_Education_Level_Months_Inactive_12_mon_1 tiene sus valores correctos\n",
            "La columna Naive_Bayes_Classifier_Attrition_Flag_Card_Category_Contacts_Count_12_mon_Dependent_count_Education_Level_Months_Inactive_12_mon_2 tiene sus valores correctos\n"
          ]
        }
      ],
      "source": [
        "for i in df[numerical].columns:# iterar sobre todas las columnas numéricas\n",
        "  if df[i].dtype == 'int' or df[i].dtype == 'float':\n",
        "    print('La columna {col} tiene sus valores correctos'.format(col=i))\n",
        "  else:\n",
        "    print(df[i])"
      ]
    },
    {
      "cell_type": "markdown",
      "metadata": {
        "id": "Zp7zxFgnhkxE"
      },
      "source": [
        "BORRAR COLUMNAS INNECESARIAS"
      ]
    },
    {
      "cell_type": "code",
      "execution_count": 30,
      "metadata": {
        "id": "LmwnMUAlgtoz"
      },
      "outputs": [],
      "source": [
        "df = df.drop(columns=['Naive_Bayes_Classifier_Attrition_Flag_Card_Category_Contacts_Count_12_mon_Dependent_count_Education_Level_Months_Inactive_12_mon_1',\n",
        "                                   'Naive_Bayes_Classifier_Attrition_Flag_Card_Category_Contacts_Count_12_mon_Dependent_count_Education_Level_Months_Inactive_12_mon_2',\n",
        "                                   'CLIENTNUM'], axis=1)"
      ]
    },
    {
      "cell_type": "code",
      "execution_count": 31,
      "metadata": {
        "colab": {
          "base_uri": "https://localhost:8080/"
        },
        "id": "Uv8YqqukhUUF",
        "outputId": "691109b1-1d00-4951-d0b3-5e3f888cc180"
      },
      "outputs": [
        {
          "output_type": "stream",
          "name": "stdout",
          "text": [
            "<class 'pandas.core.frame.DataFrame'>\n",
            "RangeIndex: 10127 entries, 0 to 10126\n",
            "Data columns (total 20 columns):\n",
            " #   Column                    Non-Null Count  Dtype  \n",
            "---  ------                    --------------  -----  \n",
            " 0   Attrition_Flag            10127 non-null  object \n",
            " 1   Customer_Age              10127 non-null  int64  \n",
            " 2   Gender                    10127 non-null  object \n",
            " 3   Dependent_count           10127 non-null  int64  \n",
            " 4   Education_Level           10127 non-null  object \n",
            " 5   Marital_Status            10127 non-null  object \n",
            " 6   Income_Category           10127 non-null  object \n",
            " 7   Card_Category             10127 non-null  object \n",
            " 8   Months_on_book            10127 non-null  int64  \n",
            " 9   Total_Relationship_Count  10127 non-null  int64  \n",
            " 10  Months_Inactive_12_mon    10127 non-null  int64  \n",
            " 11  Contacts_Count_12_mon     10127 non-null  int64  \n",
            " 12  Credit_Limit              10127 non-null  float64\n",
            " 13  Total_Revolving_Bal       10127 non-null  int64  \n",
            " 14  Avg_Open_To_Buy           10127 non-null  float64\n",
            " 15  Total_Amt_Chng_Q4_Q1      10127 non-null  float64\n",
            " 16  Total_Trans_Amt           10127 non-null  int64  \n",
            " 17  Total_Trans_Ct            10127 non-null  int64  \n",
            " 18  Total_Ct_Chng_Q4_Q1       10127 non-null  float64\n",
            " 19  Avg_Utilization_Ratio     10127 non-null  float64\n",
            "dtypes: float64(5), int64(9), object(6)\n",
            "memory usage: 1.5+ MB\n"
          ]
        }
      ],
      "source": [
        "df.info()"
      ]
    },
    {
      "cell_type": "markdown",
      "metadata": {
        "id": "ImUwsYFjiva7"
      },
      "source": [
        "## **ANÁLISIS UNIVARIADO**"
      ]
    },
    {
      "cell_type": "markdown",
      "metadata": {
        "id": "X9JYcMMOjEcx"
      },
      "source": [
        "¿HAY ALGUNA DIFERENCIA SOBRSALIENTE EN EL GÉNERO QUE PUEDA ESTAR RELACIONADA A LA DESERCIÓN?"
      ]
    },
    {
      "cell_type": "code",
      "execution_count": 32,
      "metadata": {
        "colab": {
          "base_uri": "https://localhost:8080/",
          "height": 568
        },
        "id": "Kp9rCQvUiSbn",
        "outputId": "3cd678df-6eef-4626-99dd-4fd0a5e2a379"
      },
      "outputs": [
        {
          "output_type": "display_data",
          "data": {
            "text/plain": [
              "<Figure size 1200x600 with 1 Axes>"
            ],
            "image/png": "[encoded data removed]"
          },
          "metadata": {}
        }
      ],
      "source": [
        "df[df['Attrition_Flag'] == 'Attrited Customer']['Customer_Age'].value_counts().sort_index().plot.bar(figsize=(12,6))\n",
        "plt.title('Clientes que Abandonaron por Edad')\n",
        "\n",
        "ax = plt.gca()\n",
        "ax.spines['right'].set_visible(False)\n",
        "ax.spines['top'].set_visible(False)\n",
        "\n",
        "plt.xlabel('Edades de los Clientes')\n",
        "plt.ylabel('Frecuencia de Datos')\n",
        "plt.show()"
      ]
    },
    {
      "cell_type": "markdown",
      "metadata": {
        "id": "DhWqb0Q0jOd4"
      },
      "source": [
        "\n",
        "\n",
        "---\n",
        "\n"
      ]
    },
    {
      "cell_type": "markdown",
      "metadata": {
        "id": "BVMm6W1YjVEH"
      },
      "source": [
        "¿HAY ALGUNA DIFERENCIA SOBRESALIENTE EN EL GÉNERO QUE PUEDA ESTAR RELACIONADA A LA DESERCIÓN?"
      ]
    },
    {
      "cell_type": "code",
      "execution_count": 33,
      "metadata": {
        "colab": {
          "base_uri": "https://localhost:8080/",
          "height": 658
        },
        "id": "UwcsczZViSkG",
        "outputId": "0b560e08-2a19-479a-dafc-3601101639f2"
      },
      "outputs": [
        {
          "output_type": "display_data",
          "data": {
            "text/plain": [
              "<Figure size 1011.11x600 with 2 Axes>"
            ],
            "image/png": "[encoded data removed]"
          },
          "metadata": {}
        }
      ],
      "source": [
        "# Desired total dimensions\n",
        "total_width, total_height = 10, 6\n",
        "num_subplots = 2  # This is typically the number of unique categories in 'Attrition_Flag'\n",
        "\n",
        "# Calculate the height of each subplot and the aspect ratio\n",
        "subplot_height = total_height  # We use the total height for each subplot\n",
        "aspect = (total_width / num_subplots) / subplot_height\n",
        "\n",
        "# Create the catplot with calculated aspect and height\n",
        "g = sns.catplot(x='Gender', col='Attrition_Flag', data=df,\n",
        "                kind='count', height=subplot_height, aspect=aspect)\n",
        "\n",
        "# Set super title\n",
        "g.fig.suptitle('Clientes que Abandonaron por Género', fontsize=14, y=1.05)\n",
        "\n",
        "# Customize x-label position and appearance\n",
        "g.fig.text(0.5, 0.02, 'Género de los Clientes', ha='center', fontsize=12)\n",
        "\n",
        "# Adjust layout\n",
        "plt.tight_layout()\n",
        "plt.subplots_adjust(top=0.85, bottom=0.20)\n",
        "\n",
        "plt.show()"
      ]
    },
    {
      "cell_type": "markdown",
      "metadata": {
        "id": "vhKMDC53jov9"
      },
      "source": [
        "\n",
        "\n",
        "---\n",
        "\n"
      ]
    },
    {
      "cell_type": "markdown",
      "metadata": {
        "id": "t0oPpH36pvss"
      },
      "source": [
        "¿CÓMO AFECTA EL NIVEL DE EDUCACIÓN DEL CLIENTE A LAS TASAS DE DESERCIÓN?"
      ]
    },
    {
      "cell_type": "code",
      "execution_count": 34,
      "metadata": {
        "colab": {
          "base_uri": "https://localhost:8080/",
          "height": 650
        },
        "id": "G3O4KyvbjnxV",
        "outputId": "d17827d0-fc07-4b7e-81c4-b8547ca98ac0"
      },
      "outputs": [
        {
          "output_type": "display_data",
          "data": {
            "text/plain": [
              "<Figure size 1200x600 with 1 Axes>"
            ],
            "image/png": "[encoded data removed]"
          },
          "metadata": {}
        }
      ],
      "source": [
        "education_order = [\"Uneducated\", \"High School\", \"Graduate\", \"College\", \"Post-Graduate\",\"Doctorate\"]\n",
        "df[df['Attrition_Flag'] == 'Attrited Customer']['Education_Level'].value_counts().reindex(education_order).plot.bar(figsize=(12,6))\n",
        "plt.title('Clientes que Abandonaron por Nivel de Educación')\n",
        "\n",
        "ax = plt.gca()\n",
        "ax.spines['right'].set_visible(False)\n",
        "ax.spines['top'].set_visible(False)\n",
        "\n",
        "plt.xlabel('Nivel de Educación')\n",
        "plt.ylabel('Frecuencia de Datos')\n",
        "plt.show()"
      ]
    },
    {
      "cell_type": "markdown",
      "metadata": {
        "id": "wBWLzQD2p6rB"
      },
      "source": [
        "\n",
        "\n",
        "---\n",
        "\n"
      ]
    },
    {
      "cell_type": "markdown",
      "metadata": {
        "id": "zmwIBMOtp9C1"
      },
      "source": [
        "¿AFECTA EL ESTADO CIVIL DEL CLIENTE A LAS TASAS DE DESERCIÓN?"
      ]
    },
    {
      "cell_type": "code",
      "execution_count": 35,
      "metadata": {
        "colab": {
          "base_uri": "https://localhost:8080/",
          "height": 614
        },
        "id": "OhHRZC1bjn0-",
        "outputId": "fdee4f05-ae01-4ca9-dc00-434c3d7ae597"
      },
      "outputs": [
        {
          "output_type": "display_data",
          "data": {
            "text/plain": [
              "<Figure size 1200x600 with 1 Axes>"
            ],
            "image/png": "[encoded data removed]"
          },
          "metadata": {}
        }
      ],
      "source": [
        "df[df['Attrition_Flag'] == 'Attrited Customer']['Marital_Status'].value_counts().sort_index().plot.bar(figsize=(12,6))\n",
        "plt.title('Clientes que Abandonaron por Estado Civil')\n",
        "plt.xlabel('Estado Civil')\n",
        "plt.ylabel('Frecuencia de Datos')\n",
        "\n",
        "ax = plt.gca()\n",
        "ax.spines['right'].set_visible(False)\n",
        "ax.spines['top'].set_visible(False)\n",
        "\n",
        "plt.show()"
      ]
    },
    {
      "cell_type": "markdown",
      "metadata": {
        "id": "QxvfzOWbqDKs"
      },
      "source": [
        "\n",
        "\n",
        "---\n",
        "\n"
      ]
    },
    {
      "cell_type": "markdown",
      "metadata": {
        "id": "wrtz2vGYqIYz"
      },
      "source": [
        "¿CÓMO AFECTA EL NIVEL DE INGRESOS DEL CLIENTE A LAS TASAS DE DESERCIÓN?"
      ]
    },
    {
      "cell_type": "code",
      "execution_count": 36,
      "metadata": {
        "colab": {
          "base_uri": "https://localhost:8080/",
          "height": 657
        },
        "id": "heCwx0HFqCJV",
        "outputId": "dbf099d3-17e6-47d1-b15d-ef04937473dc"
      },
      "outputs": [
        {
          "output_type": "display_data",
          "data": {
            "text/plain": [
              "<Figure size 1200x600 with 1 Axes>"
            ],
            "image/png": "[encoded data removed]"
          },
          "metadata": {}
        }
      ],
      "source": [
        "income_order = [\"Less than $40K\", \"$40K - $60K\", \"$60K - $80K\", \"$80K - $120K\", \"$120K +\",\"Unknown\"]\n",
        "df[df['Attrition_Flag'] == 'Attrited Customer']['Income_Category'].value_counts()\\\n",
        ".reindex(income_order).plot.bar(figsize=(12,6))\n",
        "plt.title('Clientes que Abandonaron por Nivel de Ingresos')\n",
        "plt.xlabel('Ingresos Anuales (Dólares)')\n",
        "plt.ylabel('Frecuencia de Datos')\n",
        "\n",
        "ax = plt.gca()\n",
        "ax.spines['right'].set_visible(False)\n",
        "ax.spines['top'].set_visible(False)\n",
        "\n",
        "plt.show()"
      ]
    },
    {
      "cell_type": "markdown",
      "metadata": {
        "id": "qN7XlSdkqR9F"
      },
      "source": [
        "\n",
        "\n",
        "---\n",
        "\n"
      ]
    },
    {
      "cell_type": "markdown",
      "metadata": {
        "id": "YBisMIRjqT4E"
      },
      "source": [
        "¿TIENE ALGUNA RELEVANCIA EL GÉNERO EN EL LÍMITE DE CRÉDITO?"
      ]
    },
    {
      "cell_type": "code",
      "execution_count": 37,
      "metadata": {
        "colab": {
          "base_uri": "https://localhost:8080/",
          "height": 565
        },
        "id": "1buJz4rhiTAH",
        "outputId": "92e43142-077b-4dd1-b39a-bf6f9ce292c2"
      },
      "outputs": [
        {
          "output_type": "display_data",
          "data": {
            "text/plain": [
              "<Figure size 1100x600 with 1 Axes>"
            ],
            "image/png": "[encoded data removed]"
          },
          "metadata": {}
        }
      ],
      "source": [
        "plt.figure(figsize=(11,6))\n",
        "sns.barplot(data=df, x='Credit_Limit',y=df['Attrition_Flag'], hue = 'Gender').set(title = 'Límite de Crédito por Género')\n",
        "ax = plt.gca()\n",
        "ax.spines['right'].set_visible(False)\n",
        "ax.spines['top'].set_visible(False)\n",
        "plt.show()"
      ]
    },
    {
      "cell_type": "markdown",
      "metadata": {
        "id": "fbIUeFLPqo9L"
      },
      "source": [
        "## **ANÁLISIS BIVARIADO**"
      ]
    },
    {
      "cell_type": "markdown",
      "metadata": {
        "id": "T8YcPh-Kq1Hf"
      },
      "source": [
        "¿CÓMO AFECTA TOTAL_TRANS_CT A LAS TASAS DE DESERCIÓN?"
      ]
    },
    {
      "cell_type": "code",
      "execution_count": 38,
      "metadata": {
        "colab": {
          "base_uri": "https://localhost:8080/",
          "height": 564
        },
        "id": "4e4e-9NHqO3O",
        "outputId": "5b555342-5f12-4d74-9344-13b208e32763"
      },
      "outputs": [
        {
          "output_type": "display_data",
          "data": {
            "text/plain": [
              "<Figure size 1200x600 with 1 Axes>"
            ],
            "image/png": "[encoded data removed]"
          },
          "metadata": {}
        }
      ],
      "source": [
        "plt.figure(figsize=(12,6))\n",
        "Amt = sns.kdeplot(df.Total_Trans_Ct[(df['Attrition_Flag']=='Existing Customer')], color = 'Red', fill=True)\n",
        "Amt = sns.kdeplot(df.Total_Trans_Ct[(df['Attrition_Flag']=='Attrited Customer')],  color = 'Blue',fill=True)\n",
        "\n",
        "Amt.legend(['Existente', 'Abandona'], loc='upper right')\n",
        "Amt.set_ylabel('Density')\n",
        "Amt.set_xlabel('Total_Trans_Ct')\n",
        "Amt.set_title('Total_Trans_Ct by Churn')\n",
        "\n",
        "ax = plt.gca()\n",
        "ax.spines['top'].set_visible(False)\n",
        "ax.spines['right'].set_visible(False)\n",
        "plt.show()"
      ]
    },
    {
      "cell_type": "markdown",
      "metadata": {
        "id": "eLi1vuQmq65D"
      },
      "source": [
        "\n",
        "\n",
        "---\n",
        "\n"
      ]
    },
    {
      "cell_type": "markdown",
      "metadata": {
        "id": "RoMxHa4OrA9b"
      },
      "source": [
        "¿CÓMO AFECTA TOTAL_TRANS_AMT A LAS TASAS DE DESERCIÓN?"
      ]
    },
    {
      "cell_type": "code",
      "execution_count": 39,
      "metadata": {
        "colab": {
          "base_uri": "https://localhost:8080/",
          "height": 564
        },
        "id": "7rOgAl0xqO9m",
        "outputId": "28f87463-8131-4a8f-f2a5-7372d423e7d9"
      },
      "outputs": [
        {
          "output_type": "display_data",
          "data": {
            "text/plain": [
              "<Figure size 1200x600 with 1 Axes>"
            ],
            "image/png": "[encoded data removed]"
          },
          "metadata": {}
        }
      ],
      "source": [
        "plt.figure(figsize=(12,6))\n",
        "trans_amt = sns.kdeplot(df.Total_Trans_Amt[(df['Attrition_Flag']=='Existing Customer')], color = 'Red', fill=True)\n",
        "trans_amt = sns.kdeplot(df.Total_Trans_Amt[(df['Attrition_Flag']=='Attrited Customer')],  color = 'Blue',fill=True)\n",
        "\n",
        "trans_amt.legend(['Existente', 'Abandona'], loc='upper right')\n",
        "trans_amt.set_ylabel('Density')\n",
        "trans_amt.set_xlabel('Total_Trans_Amt')\n",
        "trans_amt.set_title('Total_Trans_Amt by Churn')\n",
        "\n",
        "\n",
        "ax = plt.gca()\n",
        "ax.spines['top'].set_visible(False)\n",
        "ax.spines['right'].set_visible(False)\n",
        "plt.show()"
      ]
    },
    {
      "cell_type": "markdown",
      "metadata": {
        "id": "4l7sjtFFrW-P"
      },
      "source": [
        "\n",
        "\n",
        "---\n",
        "\n"
      ]
    },
    {
      "cell_type": "markdown",
      "metadata": {
        "id": "8OMl3vHNrZIv"
      },
      "source": [
        "¿CÓMO AFECTA CONTACTS_COUNT_12_MON A LAS TASAS DE DESERCIÓN?"
      ]
    },
    {
      "cell_type": "code",
      "execution_count": 40,
      "metadata": {
        "colab": {
          "base_uri": "https://localhost:8080/",
          "height": 564
        },
        "id": "uL37wIydq8Lk",
        "outputId": "d71438f8-4cf4-487c-838d-430409f5185b"
      },
      "outputs": [
        {
          "output_type": "display_data",
          "data": {
            "text/plain": [
              "<Figure size 1200x600 with 1 Axes>"
            ],
            "image/png": "[encoded data removed]"
          },
          "metadata": {}
        }
      ],
      "source": [
        "plt.figure(figsize=(12,6))\n",
        "trans_amt = sns.kdeplot(df.Contacts_Count_12_mon[(df['Attrition_Flag']=='Existing Customer')], color = 'Red', fill=True)\n",
        "trans_amt = sns.kdeplot(df.Contacts_Count_12_mon[(df['Attrition_Flag']=='Attrited Customer')],  color = 'Blue',fill=True)\n",
        "\n",
        "trans_amt.legend(['Existente', 'Abandona'], loc='upper right')\n",
        "trans_amt.set_ylabel('Density')\n",
        "trans_amt.set_xlabel('Contacts_Count_12_mon')\n",
        "trans_amt.set_title('Contacts_Count_12_mon by Churn')\n",
        "\n",
        "ax = plt.gca()\n",
        "ax.spines['top'].set_visible(False)\n",
        "ax.spines['right'].set_visible(False)\n",
        "plt.show()"
      ]
    },
    {
      "cell_type": "markdown",
      "metadata": {
        "id": "zPQIPOaqrvZS"
      },
      "source": [
        "\n",
        "\n",
        "---\n",
        "\n"
      ]
    },
    {
      "cell_type": "code",
      "execution_count": 41,
      "metadata": {
        "id": "vxPyDnMOsFVN"
      },
      "outputs": [],
      "source": [
        "df['Attrition_Flag'].replace({'Existing Customer':0, 'Attrited Customer':1}, inplace=True)"
      ]
    },
    {
      "cell_type": "code",
      "execution_count": 42,
      "metadata": {
        "colab": {
          "base_uri": "https://localhost:8080/"
        },
        "id": "geFCNvd9q8PD",
        "outputId": "91e00398-770a-45e9-916b-9e36ad2502b0"
      },
      "outputs": [
        {
          "output_type": "execute_result",
          "data": {
            "text/plain": [
              "0.20449050998160426"
            ]
          },
          "metadata": {},
          "execution_count": 42
        }
      ],
      "source": [
        "df['Attrition_Flag'].corr(df['Contacts_Count_12_mon'])"
      ]
    },
    {
      "cell_type": "markdown",
      "source": [
        "# CREAR DATAFRAME ALTERNATIVO PARA VER CORRELACIONES"
      ],
      "metadata": {
        "id": "EzV4uKBVeej9"
      }
    },
    {
      "cell_type": "code",
      "execution_count": 43,
      "metadata": {
        "id": "FDKbse69cF_3"
      },
      "outputs": [],
      "source": [
        "df2 = df.copy()"
      ]
    },
    {
      "cell_type": "code",
      "source": [
        "#Identificar variables numéricas\n",
        "numerico = [col for col in df2.columns if df2[col].dtypes != 'O']\n",
        "numerico"
      ],
      "metadata": {
        "colab": {
          "base_uri": "https://localhost:8080/"
        },
        "id": "UmRvssaOebEV",
        "outputId": "af0bcece-a5e2-48bd-bfbc-e6d2beea9fe4"
      },
      "execution_count": 44,
      "outputs": [
        {
          "output_type": "execute_result",
          "data": {
            "text/plain": [
              "['Attrition_Flag',\n",
              " 'Customer_Age',\n",
              " 'Dependent_count',\n",
              " 'Months_on_book',\n",
              " 'Total_Relationship_Count',\n",
              " 'Months_Inactive_12_mon',\n",
              " 'Contacts_Count_12_mon',\n",
              " 'Credit_Limit',\n",
              " 'Total_Revolving_Bal',\n",
              " 'Avg_Open_To_Buy',\n",
              " 'Total_Amt_Chng_Q4_Q1',\n",
              " 'Total_Trans_Amt',\n",
              " 'Total_Trans_Ct',\n",
              " 'Total_Ct_Chng_Q4_Q1',\n",
              " 'Avg_Utilization_Ratio']"
            ]
          },
          "metadata": {},
          "execution_count": 44
        }
      ]
    },
    {
      "cell_type": "code",
      "source": [
        "#Identificar variables categóricas\n",
        "categorico = [col for col in df2.columns if df2[col].dtypes == 'O']\n",
        "categorico"
      ],
      "metadata": {
        "colab": {
          "base_uri": "https://localhost:8080/"
        },
        "id": "6a5MK4KHfM1M",
        "outputId": "f41c8141-46fb-416b-b9f1-768edba40b1b"
      },
      "execution_count": 45,
      "outputs": [
        {
          "output_type": "execute_result",
          "data": {
            "text/plain": [
              "['Gender',\n",
              " 'Education_Level',\n",
              " 'Marital_Status',\n",
              " 'Income_Category',\n",
              " 'Card_Category']"
            ]
          },
          "metadata": {},
          "execution_count": 45
        }
      ]
    },
    {
      "cell_type": "code",
      "source": [
        "#Aplicar Encoding a las variables categóricas temporales\n",
        "df2 = pd.get_dummies(df2)\n",
        "df2.info()"
      ],
      "metadata": {
        "colab": {
          "base_uri": "https://localhost:8080/"
        },
        "id": "xSRXo9fIfiYB",
        "outputId": "745fb457-f03f-49c2-e6fc-81ac28848b6f"
      },
      "execution_count": 46,
      "outputs": [
        {
          "output_type": "stream",
          "name": "stdout",
          "text": [
            "<class 'pandas.core.frame.DataFrame'>\n",
            "RangeIndex: 10127 entries, 0 to 10126\n",
            "Data columns (total 38 columns):\n",
            " #   Column                          Non-Null Count  Dtype  \n",
            "---  ------                          --------------  -----  \n",
            " 0   Attrition_Flag                  10127 non-null  int64  \n",
            " 1   Customer_Age                    10127 non-null  int64  \n",
            " 2   Dependent_count                 10127 non-null  int64  \n",
            " 3   Months_on_book                  10127 non-null  int64  \n",
            " 4   Total_Relationship_Count        10127 non-null  int64  \n",
            " 5   Months_Inactive_12_mon          10127 non-null  int64  \n",
            " 6   Contacts_Count_12_mon           10127 non-null  int64  \n",
            " 7   Credit_Limit                    10127 non-null  float64\n",
            " 8   Total_Revolving_Bal             10127 non-null  int64  \n",
            " 9   Avg_Open_To_Buy                 10127 non-null  float64\n",
            " 10  Total_Amt_Chng_Q4_Q1            10127 non-null  float64\n",
            " 11  Total_Trans_Amt                 10127 non-null  int64  \n",
            " 12  Total_Trans_Ct                  10127 non-null  int64  \n",
            " 13  Total_Ct_Chng_Q4_Q1             10127 non-null  float64\n",
            " 14  Avg_Utilization_Ratio           10127 non-null  float64\n",
            " 15  Gender_F                        10127 non-null  bool   \n",
            " 16  Gender_M                        10127 non-null  bool   \n",
            " 17  Education_Level_College         10127 non-null  bool   \n",
            " 18  Education_Level_Doctorate       10127 non-null  bool   \n",
            " 19  Education_Level_Graduate        10127 non-null  bool   \n",
            " 20  Education_Level_High School     10127 non-null  bool   \n",
            " 21  Education_Level_Post-Graduate   10127 non-null  bool   \n",
            " 22  Education_Level_Uneducated      10127 non-null  bool   \n",
            " 23  Education_Level_Unknown         10127 non-null  bool   \n",
            " 24  Marital_Status_Divorced         10127 non-null  bool   \n",
            " 25  Marital_Status_Married          10127 non-null  bool   \n",
            " 26  Marital_Status_Single           10127 non-null  bool   \n",
            " 27  Marital_Status_Unknown          10127 non-null  bool   \n",
            " 28  Income_Category_$120K +         10127 non-null  bool   \n",
            " 29  Income_Category_$40K - $60K     10127 non-null  bool   \n",
            " 30  Income_Category_$60K - $80K     10127 non-null  bool   \n",
            " 31  Income_Category_$80K - $120K    10127 non-null  bool   \n",
            " 32  Income_Category_Less than $40K  10127 non-null  bool   \n",
            " 33  Income_Category_Unknown         10127 non-null  bool   \n",
            " 34  Card_Category_Blue              10127 non-null  bool   \n",
            " 35  Card_Category_Gold              10127 non-null  bool   \n",
            " 36  Card_Category_Platinum          10127 non-null  bool   \n",
            " 37  Card_Category_Silver            10127 non-null  bool   \n",
            "dtypes: bool(23), float64(5), int64(10)\n",
            "memory usage: 1.4 MB\n"
          ]
        }
      ]
    },
    {
      "cell_type": "code",
      "source": [
        "df2.corr()['Attrition_Flag'].sort_values(ascending=False)"
      ],
      "metadata": {
        "id": "0WhE3fcZZrM6",
        "colab": {
          "base_uri": "https://localhost:8080/"
        },
        "outputId": "0245430f-0354-4aa2-840b-0917ffeeba0f"
      },
      "execution_count": 47,
      "outputs": [
        {
          "output_type": "execute_result",
          "data": {
            "text/plain": [
              "Attrition_Flag                    1.000000\n",
              "Contacts_Count_12_mon             0.204491\n",
              "Months_Inactive_12_mon            0.152449\n",
              "Gender_F                          0.037272\n",
              "Education_Level_Doctorate         0.029386\n",
              "Income_Category_Less than $40K    0.022466\n",
              "Marital_Status_Single             0.019037\n",
              "Dependent_count                   0.018991\n",
              "Customer_Age                      0.018203\n",
              "Months_on_book                    0.013687\n",
              "Education_Level_Post-Graduate     0.011127\n",
              "Card_Category_Platinum            0.010823\n",
              "Income_Category_$120K +           0.009584\n",
              "Education_Level_Unknown           0.009005\n",
              "Marital_Status_Unknown            0.008904\n",
              "Income_Category_Unknown           0.007179\n",
              "Card_Category_Gold                0.005973\n",
              "Card_Category_Blue                0.003216\n",
              "Marital_Status_Divorced           0.000850\n",
              "Avg_Open_To_Buy                  -0.000285\n",
              "Education_Level_Uneducated       -0.001444\n",
              "Income_Category_$80K - $120K     -0.003459\n",
              "Education_Level_College          -0.007840\n",
              "Card_Category_Silver             -0.008467\n",
              "Education_Level_Graduate         -0.009046\n",
              "Income_Category_$40K - $60K      -0.011688\n",
              "Education_Level_High School      -0.011730\n",
              "Marital_Status_Married           -0.023735\n",
              "Credit_Limit                     -0.023873\n",
              "Income_Category_$60K - $80K      -0.028221\n",
              "Gender_M                         -0.037272\n",
              "Total_Amt_Chng_Q4_Q1             -0.071980\n",
              "Total_Relationship_Count         -0.150005\n",
              "Avg_Utilization_Ratio            -0.160475\n",
              "Total_Trans_Amt                  -0.168598\n",
              "Total_Ct_Chng_Q4_Q1              -0.193011\n",
              "Total_Revolving_Bal              -0.263053\n",
              "Total_Trans_Ct                   -0.371403\n",
              "Name: Attrition_Flag, dtype: float64"
            ]
          },
          "metadata": {},
          "execution_count": 47
        }
      ]
    },
    {
      "cell_type": "code",
      "source": [
        "# Sort the correlation values in descending order\n",
        "sorted_corr = df2.corr()['Attrition_Flag'].sort_values(ascending=False)\n",
        "\n",
        "# Select the first 6 positive and last 6 negative features\n",
        "top_positive_features = sorted_corr.head(7).index.tolist()\n",
        "top_negative_features = sorted_corr.tail(7).index.tolist()\n",
        "selected_features = top_positive_features + top_negative_features\n",
        "\n",
        "# Filter the DataFrame to include only the selected features\n",
        "selected_df = df2[selected_features]\n",
        "\n",
        "# Create a color mapping\n",
        "#colors = ['blue'] * len(top_positive_features) + ['gray'] * len(top_negative_features)\n",
        "colors = ['#4169E1'] * len(top_positive_features) + ['gray'] * len(top_negative_features)\n",
        "\n",
        "# Create a bar plot\n",
        "plt.figure(figsize=(14, 6))\n",
        "selected_df.corr()['Attrition_Flag'][selected_features].plot.bar(color=colors)\n",
        "\n",
        "# Add labels and title\n",
        "plt.xlabel('Features')\n",
        "plt.ylabel('Correlación con Attrition_Flag')\n",
        "plt.title('Top 6 Correlaciones Positivas y Negativas contra Attrition_Flag')\n",
        "\n",
        "ax = plt.gca()\n",
        "ax.spines['right'].set_visible(False)\n",
        "ax.spines['top'].set_visible(False)\n",
        "\n",
        "# Display the plot\n",
        "plt.show()\n"
      ],
      "metadata": {
        "id": "-rS0dteQZrXB",
        "colab": {
          "base_uri": "https://localhost:8080/",
          "height": 785
        },
        "outputId": "73822f13-3b7c-499d-c816-76ae29d3941e"
      },
      "execution_count": 48,
      "outputs": [
        {
          "output_type": "display_data",
          "data": {
            "text/plain": [
              "<Figure size 1400x600 with 1 Axes>"
            ],
            "image/png": "[encoded data removed]"
          },
          "metadata": {}
        }
      ]
    },
    {
      "cell_type": "markdown",
      "metadata": {
        "id": "Zl9lxBgRgmTQ"
      },
      "source": [
        "# PREPROCESAMIENTO"
      ]
    },
    {
      "cell_type": "code",
      "execution_count": 49,
      "metadata": {
        "id": "jIlaexc7h41w",
        "colab": {
          "base_uri": "https://localhost:8080/"
        },
        "outputId": "7d94f201-8e6f-4727-e395-b7a97b068d25"
      },
      "outputs": [
        {
          "output_type": "execute_result",
          "data": {
            "text/plain": [
              "Index(['Attrition_Flag', 'Customer_Age', 'Gender', 'Dependent_count',\n",
              "       'Education_Level', 'Marital_Status', 'Income_Category', 'Card_Category',\n",
              "       'Months_on_book', 'Total_Relationship_Count', 'Months_Inactive_12_mon',\n",
              "       'Contacts_Count_12_mon', 'Credit_Limit', 'Total_Revolving_Bal',\n",
              "       'Avg_Open_To_Buy', 'Total_Amt_Chng_Q4_Q1', 'Total_Trans_Amt',\n",
              "       'Total_Trans_Ct', 'Total_Ct_Chng_Q4_Q1', 'Avg_Utilization_Ratio'],\n",
              "      dtype='object')"
            ]
          },
          "metadata": {},
          "execution_count": 49
        }
      ],
      "source": [
        "df.columns"
      ]
    },
    {
      "cell_type": "markdown",
      "source": [
        "ELECIÓN DE VARIABLES: FEATURE ENGINEERING"
      ],
      "metadata": {
        "id": "hy9n1BQp1JhK"
      }
    },
    {
      "cell_type": "code",
      "execution_count": 50,
      "metadata": {
        "id": "POn1NcYJIX_4"
      },
      "outputs": [],
      "source": [
        "quedar = ['Contacts_Count_12_mon', 'Months_Inactive_12_mon','Total_Revolving_Bal',\n",
        "          'Total_Trans_Ct','Attrition_Flag','Gender','Marital_Status','Income_Category','Education_Level']"
      ]
    },
    {
      "cell_type": "code",
      "execution_count": 51,
      "metadata": {
        "id": "GrGOXYaII9hE",
        "colab": {
          "base_uri": "https://localhost:8080/",
          "height": 206
        },
        "outputId": "2914ead0-e41b-40be-8e7d-68990dd65e20"
      },
      "outputs": [
        {
          "output_type": "execute_result",
          "data": {
            "text/plain": [
              "   Contacts_Count_12_mon  Months_Inactive_12_mon  Total_Revolving_Bal  \\\n",
              "0                      3                       1                  777   \n",
              "1                      2                       1                  864   \n",
              "2                      0                       1                    0   \n",
              "3                      1                       4                 2517   \n",
              "4                      0                       1                    0   \n",
              "\n",
              "   Total_Trans_Ct  Attrition_Flag Gender Marital_Status Income_Category  \\\n",
              "0              42               0      M        Married     $60K - $80K   \n",
              "1              33               0      F         Single  Less than $40K   \n",
              "2              20               0      M        Married    $80K - $120K   \n",
              "3              20               0      F        Unknown  Less than $40K   \n",
              "4              28               0      M        Married     $60K - $80K   \n",
              "\n",
              "  Education_Level  \n",
              "0     High School  \n",
              "1        Graduate  \n",
              "2        Graduate  \n",
              "3     High School  \n",
              "4      Uneducated  "
            ],
            "text/html": [
              "\n",
              "  <div id=\"df-8a847be5-338a-4326-a3e5-327e89b9c97a\" class=\"colab-df-container\">\n",
              "    <div>\n",
              "<style scoped>\n",
              "    .dataframe tbody tr th:only-of-type {\n",
              "        vertical-align: middle;\n",
              "    }\n",
              "\n",
              "    .dataframe tbody tr th {\n",
              "        vertical-align: top;\n",
              "    }\n",
              "\n",
              "    .dataframe thead th {\n",
              "        text-align: right;\n",
              "    }\n",
              "</style>\n",
              "<table border=\"1\" class=\"dataframe\">\n",
              "  <thead>\n",
              "    <tr style=\"text-align: right;\">\n",
              "      <th></th>\n",
              "      <th>Contacts_Count_12_mon</th>\n",
              "      <th>Months_Inactive_12_mon</th>\n",
              "      <th>Total_Revolving_Bal</th>\n",
              "      <th>Total_Trans_Ct</th>\n",
              "      <th>Attrition_Flag</th>\n",
              "      <th>Gender</th>\n",
              "      <th>Marital_Status</th>\n",
              "      <th>Income_Category</th>\n",
              "      <th>Education_Level</th>\n",
              "    </tr>\n",
              "  </thead>\n",
              "  <tbody>\n",
              "    <tr>\n",
              "      <th>0</th>\n",
              "      <td>3</td>\n",
              "      <td>1</td>\n",
              "      <td>777</td>\n",
              "      <td>42</td>\n",
              "      <td>0</td>\n",
              "      <td>M</td>\n",
              "      <td>Married</td>\n",
              "      <td>$60K - $80K</td>\n",
              "      <td>High School</td>\n",
              "    </tr>\n",
              "    <tr>\n",
              "      <th>1</th>\n",
              "      <td>2</td>\n",
              "      <td>1</td>\n",
              "      <td>864</td>\n",
              "      <td>33</td>\n",
              "      <td>0</td>\n",
              "      <td>F</td>\n",
              "      <td>Single</td>\n",
              "      <td>Less than $40K</td>\n",
              "      <td>Graduate</td>\n",
              "    </tr>\n",
              "    <tr>\n",
              "      <th>2</th>\n",
              "      <td>0</td>\n",
              "      <td>1</td>\n",
              "      <td>0</td>\n",
              "      <td>20</td>\n",
              "      <td>0</td>\n",
              "      <td>M</td>\n",
              "      <td>Married</td>\n",
              "      <td>$80K - $120K</td>\n",
              "      <td>Graduate</td>\n",
              "    </tr>\n",
              "    <tr>\n",
              "      <th>3</th>\n",
              "      <td>1</td>\n",
              "      <td>4</td>\n",
              "      <td>2517</td>\n",
              "      <td>20</td>\n",
              "      <td>0</td>\n",
              "      <td>F</td>\n",
              "      <td>Unknown</td>\n",
              "      <td>Less than $40K</td>\n",
              "      <td>High School</td>\n",
              "    </tr>\n",
              "    <tr>\n",
              "      <th>4</th>\n",
              "      <td>0</td>\n",
              "      <td>1</td>\n",
              "      <td>0</td>\n",
              "      <td>28</td>\n",
              "      <td>0</td>\n",
              "      <td>M</td>\n",
              "      <td>Married</td>\n",
              "      <td>$60K - $80K</td>\n",
              "      <td>Uneducated</td>\n",
              "    </tr>\n",
              "  </tbody>\n",
              "</table>\n",
              "</div>\n",
              "    <div class=\"colab-df-buttons\">\n",
              "\n",
              "  <div class=\"colab-df-container\">\n",
              "    <button class=\"colab-df-convert\" onclick=\"convertToInteractive('df-8a847be5-338a-4326-a3e5-327e89b9c97a')\"\n",
              "            title=\"Convert this dataframe to an interactive table.\"\n",
              "            style=\"display:none;\">\n",
              "\n",
              "  <svg xmlns=\"http://www.w3.org/2000/svg\" height=\"24px\" viewBox=\"0 -960 960 960\">\n",
              "    <path d=\"M120-120v-720h720v720H120Zm60-500h600v-160H180v160Zm220 220h160v-160H400v160Zm0 220h160v-160H400v160ZM180-400h160v-160H180v160Zm440 0h160v-160H620v160ZM180-180h160v-160H180v160Zm440 0h160v-160H620v160Z\"/>\n",
              "  </svg>\n",
              "    </button>\n",
              "\n",
              "  <style>\n",
              "    .colab-df-container {\n",
              "      display:flex;\n",
              "      gap: 12px;\n",
              "    }\n",
              "\n",
              "    .colab-df-convert {\n",
              "      background-color: #E8F0FE;\n",
              "      border: none;\n",
              "      border-radius: 50%;\n",
              "      cursor: pointer;\n",
              "      display: none;\n",
              "      fill: #1967D2;\n",
              "      height: 32px;\n",
              "      padding: 0 0 0 0;\n",
              "      width: 32px;\n",
              "    }\n",
              "\n",
              "    .colab-df-convert:hover {\n",
              "      background-color: #E2EBFA;\n",
              "      box-shadow: 0px 1px 2px rgba(60, 64, 67, 0.3), 0px 1px 3px 1px rgba(60, 64, 67, 0.15);\n",
              "      fill: #174EA6;\n",
              "    }\n",
              "\n",
              "    .colab-df-buttons div {\n",
              "      margin-bottom: 4px;\n",
              "    }\n",
              "\n",
              "    [theme=dark] .colab-df-convert {\n",
              "      background-color: #3B4455;\n",
              "      fill: #D2E3FC;\n",
              "    }\n",
              "\n",
              "    [theme=dark] .colab-df-convert:hover {\n",
              "      background-color: #434B5C;\n",
              "      box-shadow: 0px 1px 3px 1px rgba(0, 0, 0, 0.15);\n",
              "      filter: drop-shadow(0px 1px 2px rgba(0, 0, 0, 0.3));\n",
              "      fill: #FFFFFF;\n",
              "    }\n",
              "  </style>\n",
              "\n",
              "    <script>\n",
              "      const buttonEl =\n",
              "        document.querySelector('#df-8a847be5-338a-4326-a3e5-327e89b9c97a button.colab-df-convert');\n",
              "      buttonEl.style.display =\n",
              "        google.colab.kernel.accessAllowed ? 'block' : 'none';\n",
              "\n",
              "      async function convertToInteractive(key) {\n",
              "        const element = document.querySelector('#df-8a847be5-338a-4326-a3e5-327e89b9c97a');\n",
              "        const dataTable =\n",
              "          await google.colab.kernel.invokeFunction('convertToInteractive',\n",
              "                                                    [key], {});\n",
              "        if (!dataTable) return;\n",
              "\n",
              "        const docLinkHtml = 'Like what you see? Visit the ' +\n",
              "          '<a target=\"_blank\" href=https://colab.research.google.com/notebooks/data_table.ipynb>data table notebook</a>'\n",
              "          + ' to learn more about interactive tables.';\n",
              "        element.innerHTML = '';\n",
              "        dataTable['output_type'] = 'display_data';\n",
              "        await google.colab.output.renderOutput(dataTable, element);\n",
              "        const docLink = document.createElement('div');\n",
              "        docLink.innerHTML = docLinkHtml;\n",
              "        element.appendChild(docLink);\n",
              "      }\n",
              "    </script>\n",
              "  </div>\n",
              "\n",
              "\n",
              "<div id=\"df-4f97078f-2f80-4a6e-b8fd-bfa600f4c495\">\n",
              "  <button class=\"colab-df-quickchart\" onclick=\"quickchart('df-4f97078f-2f80-4a6e-b8fd-bfa600f4c495')\"\n",
              "            title=\"Suggest charts\"\n",
              "            style=\"display:none;\">\n",
              "\n",
              "<svg xmlns=\"http://www.w3.org/2000/svg\" height=\"24px\"viewBox=\"0 0 24 24\"\n",
              "     width=\"24px\">\n",
              "    <g>\n",
              "        <path d=\"M19 3H5c-1.1 0-2 .9-2 2v14c0 1.1.9 2 2 2h14c1.1 0 2-.9 2-2V5c0-1.1-.9-2-2-2zM9 17H7v-7h2v7zm4 0h-2V7h2v10zm4 0h-2v-4h2v4z\"/>\n",
              "    </g>\n",
              "</svg>\n",
              "  </button>\n",
              "\n",
              "<style>\n",
              "  .colab-df-quickchart {\n",
              "      --bg-color: #E8F0FE;\n",
              "      --fill-color: #1967D2;\n",
              "      --hover-bg-color: #E2EBFA;\n",
              "      --hover-fill-color: #174EA6;\n",
              "      --disabled-fill-color: #AAA;\n",
              "      --disabled-bg-color: #DDD;\n",
              "  }\n",
              "\n",
              "  [theme=dark] .colab-df-quickchart {\n",
              "      --bg-color: #3B4455;\n",
              "      --fill-color: #D2E3FC;\n",
              "      --hover-bg-color: #434B5C;\n",
              "      --hover-fill-color: #FFFFFF;\n",
              "      --disabled-bg-color: #3B4455;\n",
              "      --disabled-fill-color: #666;\n",
              "  }\n",
              "\n",
              "  .colab-df-quickchart {\n",
              "    background-color: var(--bg-color);\n",
              "    border: none;\n",
              "    border-radius: 50%;\n",
              "    cursor: pointer;\n",
              "    display: none;\n",
              "    fill: var(--fill-color);\n",
              "    height: 32px;\n",
              "    padding: 0;\n",
              "    width: 32px;\n",
              "  }\n",
              "\n",
              "  .colab-df-quickchart:hover {\n",
              "    background-color: var(--hover-bg-color);\n",
              "    box-shadow: 0 1px 2px rgba(60, 64, 67, 0.3), 0 1px 3px 1px rgba(60, 64, 67, 0.15);\n",
              "    fill: var(--button-hover-fill-color);\n",
              "  }\n",
              "\n",
              "  .colab-df-quickchart-complete:disabled,\n",
              "  .colab-df-quickchart-complete:disabled:hover {\n",
              "    background-color: var(--disabled-bg-color);\n",
              "    fill: var(--disabled-fill-color);\n",
              "    box-shadow: none;\n",
              "  }\n",
              "\n",
              "  .colab-df-spinner {\n",
              "    border: 2px solid var(--fill-color);\n",
              "    border-color: transparent;\n",
              "    border-bottom-color: var(--fill-color);\n",
              "    animation:\n",
              "      spin 1s steps(1) infinite;\n",
              "  }\n",
              "\n",
              "  @keyframes spin {\n",
              "    0% {\n",
              "      border-color: transparent;\n",
              "      border-bottom-color: var(--fill-color);\n",
              "      border-left-color: var(--fill-color);\n",
              "    }\n",
              "    20% {\n",
              "      border-color: transparent;\n",
              "      border-left-color: var(--fill-color);\n",
              "      border-top-color: var(--fill-color);\n",
              "    }\n",
              "    30% {\n",
              "      border-color: transparent;\n",
              "      border-left-color: var(--fill-color);\n",
              "      border-top-color: var(--fill-color);\n",
              "      border-right-color: var(--fill-color);\n",
              "    }\n",
              "    40% {\n",
              "      border-color: transparent;\n",
              "      border-right-color: var(--fill-color);\n",
              "      border-top-color: var(--fill-color);\n",
              "    }\n",
              "    60% {\n",
              "      border-color: transparent;\n",
              "      border-right-color: var(--fill-color);\n",
              "    }\n",
              "    80% {\n",
              "      border-color: transparent;\n",
              "      border-right-color: var(--fill-color);\n",
              "      border-bottom-color: var(--fill-color);\n",
              "    }\n",
              "    90% {\n",
              "      border-color: transparent;\n",
              "      border-bottom-color: var(--fill-color);\n",
              "    }\n",
              "  }\n",
              "</style>\n",
              "\n",
              "  <script>\n",
              "    async function quickchart(key) {\n",
              "      const quickchartButtonEl =\n",
              "        document.querySelector('#' + key + ' button');\n",
              "      quickchartButtonEl.disabled = true;  // To prevent multiple clicks.\n",
              "      quickchartButtonEl.classList.add('colab-df-spinner');\n",
              "      try {\n",
              "        const charts = await google.colab.kernel.invokeFunction(\n",
              "            'suggestCharts', [key], {});\n",
              "      } catch (error) {\n",
              "        console.error('Error during call to suggestCharts:', error);\n",
              "      }\n",
              "      quickchartButtonEl.classList.remove('colab-df-spinner');\n",
              "      quickchartButtonEl.classList.add('colab-df-quickchart-complete');\n",
              "    }\n",
              "    (() => {\n",
              "      let quickchartButtonEl =\n",
              "        document.querySelector('#df-4f97078f-2f80-4a6e-b8fd-bfa600f4c495 button');\n",
              "      quickchartButtonEl.style.display =\n",
              "        google.colab.kernel.accessAllowed ? 'block' : 'none';\n",
              "    })();\n",
              "  </script>\n",
              "</div>\n",
              "\n",
              "    </div>\n",
              "  </div>\n"
            ],
            "application/vnd.google.colaboratory.intrinsic+json": {
              "type": "dataframe",
              "variable_name": "df_prueba",
              "summary": "{\n  \"name\": \"df_prueba\",\n  \"rows\": 10127,\n  \"fields\": [\n    {\n      \"column\": \"Contacts_Count_12_mon\",\n      \"properties\": {\n        \"dtype\": \"number\",\n        \"std\": 1,\n        \"min\": 0,\n        \"max\": 6,\n        \"num_unique_values\": 7,\n        \"samples\": [\n          3,\n          2,\n          5\n        ],\n        \"semantic_type\": \"\",\n        \"description\": \"\"\n      }\n    },\n    {\n      \"column\": \"Months_Inactive_12_mon\",\n      \"properties\": {\n        \"dtype\": \"number\",\n        \"std\": 1,\n        \"min\": 0,\n        \"max\": 6,\n        \"num_unique_values\": 7,\n        \"samples\": [\n          1,\n          4,\n          0\n        ],\n        \"semantic_type\": \"\",\n        \"description\": \"\"\n      }\n    },\n    {\n      \"column\": \"Total_Revolving_Bal\",\n      \"properties\": {\n        \"dtype\": \"number\",\n        \"std\": 814,\n        \"min\": 0,\n        \"max\": 2517,\n        \"num_unique_values\": 1974,\n        \"samples\": [\n          287,\n          502,\n          740\n        ],\n        \"semantic_type\": \"\",\n        \"description\": \"\"\n      }\n    },\n    {\n      \"column\": \"Total_Trans_Ct\",\n      \"properties\": {\n        \"dtype\": \"number\",\n        \"std\": 23,\n        \"min\": 10,\n        \"max\": 139,\n        \"num_unique_values\": 126,\n        \"samples\": [\n          80,\n          38,\n          119\n        ],\n        \"semantic_type\": \"\",\n        \"description\": \"\"\n      }\n    },\n    {\n      \"column\": \"Attrition_Flag\",\n      \"properties\": {\n        \"dtype\": \"number\",\n        \"std\": 0,\n        \"min\": 0,\n        \"max\": 1,\n        \"num_unique_values\": 2,\n        \"samples\": [\n          1,\n          0\n        ],\n        \"semantic_type\": \"\",\n        \"description\": \"\"\n      }\n    },\n    {\n      \"column\": \"Gender\",\n      \"properties\": {\n        \"dtype\": \"category\",\n        \"num_unique_values\": 2,\n        \"samples\": [\n          \"F\",\n          \"M\"\n        ],\n        \"semantic_type\": \"\",\n        \"description\": \"\"\n      }\n    },\n    {\n      \"column\": \"Marital_Status\",\n      \"properties\": {\n        \"dtype\": \"category\",\n        \"num_unique_values\": 4,\n        \"samples\": [\n          \"Single\",\n          \"Divorced\"\n        ],\n        \"semantic_type\": \"\",\n        \"description\": \"\"\n      }\n    },\n    {\n      \"column\": \"Income_Category\",\n      \"properties\": {\n        \"dtype\": \"category\",\n        \"num_unique_values\": 6,\n        \"samples\": [\n          \"$60K - $80K\",\n          \"Less than $40K\"\n        ],\n        \"semantic_type\": \"\",\n        \"description\": \"\"\n      }\n    },\n    {\n      \"column\": \"Education_Level\",\n      \"properties\": {\n        \"dtype\": \"category\",\n        \"num_unique_values\": 7,\n        \"samples\": [\n          \"High School\",\n          \"Graduate\"\n        ],\n        \"semantic_type\": \"\",\n        \"description\": \"\"\n      }\n    }\n  ]\n}"
            }
          },
          "metadata": {},
          "execution_count": 51
        }
      ],
      "source": [
        "df_prueba = df[quedar]\n",
        "df_prueba.head()"
      ]
    },
    {
      "cell_type": "code",
      "execution_count": 52,
      "metadata": {
        "id": "zBUGIExOgjYy"
      },
      "outputs": [],
      "source": [
        "X = df_prueba.drop(labels='Attrition_Flag', axis=1)\n",
        "y = df_prueba['Attrition_Flag']"
      ]
    },
    {
      "cell_type": "code",
      "execution_count": 53,
      "metadata": {
        "id": "CBharFKQgt_i"
      },
      "outputs": [],
      "source": [
        "from sklearn.model_selection import train_test_split\n",
        "from sklearn.ensemble import GradientBoostingClassifier\n",
        "from xgboost import XGBClassifier\n",
        "from sklearn.metrics import mean_squared_error as MSE\n",
        "from sklearn.model_selection import GridSearchCV\n",
        "from sklearn.model_selection import cross_val_score, StratifiedKFold\n",
        "from imblearn.over_sampling import SMOTE\n",
        "from sklearn.metrics import roc_auc_score\n",
        "from sklearn.metrics import classification_report"
      ]
    },
    {
      "cell_type": "markdown",
      "source": [
        "DIVISIÓN SET DE ENTRENAMIENTO Y SET DE PRUEBA"
      ],
      "metadata": {
        "id": "z9s29A5V11PH"
      }
    },
    {
      "cell_type": "code",
      "execution_count": 54,
      "metadata": {
        "id": "727lBX8XhBDs"
      },
      "outputs": [],
      "source": [
        "X_train, X_test, y_train, y_test = train_test_split(X, y, stratify=y, test_size=0.2, random_state=84)"
      ]
    },
    {
      "cell_type": "code",
      "source": [
        "#Aplicando ENCODING sobre las variables categóricas que fueron elegidas\n",
        "X_train = pd.get_dummies(X_train)\n",
        "X_train = X_train.values.astype(float)#transformado en Numpy Array y FLOAT para mejor desempeño en Machine Learning\n",
        "X_test = pd.get_dummies(X_test)\n",
        "X_test = X_test.values.astype(float)#transformado en Numpy Array y FLOAT para mejor desempeño en Machine Learning"
      ],
      "metadata": {
        "id": "nuL9djx4j-7Q"
      },
      "execution_count": 55,
      "outputs": []
    },
    {
      "cell_type": "code",
      "source": [
        "type(X_train)"
      ],
      "metadata": {
        "colab": {
          "base_uri": "https://localhost:8080/"
        },
        "id": "7RqiJThFsEXD",
        "outputId": "b2a3ab0a-a511-4379-93de-5ba54d7774b2"
      },
      "execution_count": 56,
      "outputs": [
        {
          "output_type": "execute_result",
          "data": {
            "text/plain": [
              "numpy.ndarray"
            ]
          },
          "metadata": {},
          "execution_count": 56
        }
      ]
    },
    {
      "cell_type": "code",
      "source": [
        "type(X_test)"
      ],
      "metadata": {
        "colab": {
          "base_uri": "https://localhost:8080/"
        },
        "id": "j8_Tg9ldsJMj",
        "outputId": "5262c8db-0b26-489e-cca2-7a4589fb2f19"
      },
      "execution_count": 57,
      "outputs": [
        {
          "output_type": "execute_result",
          "data": {
            "text/plain": [
              "numpy.ndarray"
            ]
          },
          "metadata": {},
          "execution_count": 57
        }
      ]
    },
    {
      "cell_type": "markdown",
      "source": [
        "BALANCEANDO EL SET DE DATOS CON SMOTE"
      ],
      "metadata": {
        "id": "xjNhbiJykxNj"
      }
    },
    {
      "cell_type": "code",
      "source": [
        "method = SMOTE(random_state=84)"
      ],
      "metadata": {
        "id": "Z2_ljULMQWuI"
      },
      "execution_count": 58,
      "outputs": []
    },
    {
      "cell_type": "code",
      "source": [
        "X_train_resampled, y_train_resampled = method.fit_resample(X_train, y_train)"
      ],
      "metadata": {
        "id": "xrRw1b2RQhQK"
      },
      "execution_count": 59,
      "outputs": []
    },
    {
      "cell_type": "code",
      "source": [
        "X_train_resampled.shape"
      ],
      "metadata": {
        "id": "6G3n_VGNpU4H",
        "colab": {
          "base_uri": "https://localhost:8080/"
        },
        "outputId": "95806dd1-4d68-4b4d-e83e-747eaace7baf"
      },
      "execution_count": 60,
      "outputs": [
        {
          "output_type": "execute_result",
          "data": {
            "text/plain": [
              "(13598, 23)"
            ]
          },
          "metadata": {},
          "execution_count": 60
        }
      ]
    },
    {
      "cell_type": "code",
      "source": [
        "y_train_resampled.shape"
      ],
      "metadata": {
        "id": "FiCXxrtrpVFb",
        "colab": {
          "base_uri": "https://localhost:8080/"
        },
        "outputId": "ef3744a4-1952-4ed2-9b22-7cfe49fb4d4c"
      },
      "execution_count": 61,
      "outputs": [
        {
          "output_type": "execute_result",
          "data": {
            "text/plain": [
              "(13598,)"
            ]
          },
          "metadata": {},
          "execution_count": 61
        }
      ]
    },
    {
      "cell_type": "code",
      "execution_count": 62,
      "metadata": {
        "id": "KCf6qZkRiTHu"
      },
      "outputs": [],
      "source": [
        "scaler = StandardScaler()\n",
        "X_train_scaled = scaler.fit_transform(X_train_resampled)\n",
        "X_test_scaled = scaler.transform(X_test)"
      ]
    },
    {
      "cell_type": "markdown",
      "source": [
        "# ENTRENANDO MODELO DE MACHINE LEARNING"
      ],
      "metadata": {
        "id": "iVKsetwj3_KB"
      }
    },
    {
      "cell_type": "markdown",
      "source": [
        "BÚSQUEDA DE MEJORES PARÁMETROS PARA XGBOOST"
      ],
      "metadata": {
        "id": "f4Xq80kz0pJW"
      }
    },
    {
      "cell_type": "code",
      "execution_count": 63,
      "metadata": {
        "id": "9JYkeJT36uQc"
      },
      "outputs": [],
      "source": [
        "SEED = 84"
      ]
    },
    {
      "cell_type": "code",
      "execution_count": 64,
      "metadata": {
        "id": "xEAHorJ2tLX_"
      },
      "outputs": [],
      "source": [
        "xgb = XGBClassifier()"
      ]
    },
    {
      "cell_type": "markdown",
      "source": [
        "DEFINIENDO PARÁMETROS PARA GRIDSEARCH_CV"
      ],
      "metadata": {
        "id": "-OjuVbWH3CBG"
      }
    },
    {
      "cell_type": "code",
      "source": [
        "params_xgb = {'max_depth': [4,5], #Intenté con más parámetros pero traté de nivelar los resultados de Cross Validation\n",
        "              'learning_rate': [0.0001 , 0.1],  #Intenté con más parámetros pero traté de nivelar los resultados de Cross Validation\n",
        "              'colsample_bytree': [0.77, 0.88],  # Similar a subsample\n",
        "              'colsample_bylevel': [0.5, 0.7],\n",
        "              'n_estimators': np.arange(100, 150, 10),  # XGBoost es más rápido ajustar de manera adecuada\n",
        "              'gamma': [0, 0.1],\n",
        "              'random_state': [SEED]}"
      ],
      "metadata": {
        "id": "lWiQzQLOr7ok"
      },
      "execution_count": 65,
      "outputs": []
    },
    {
      "cell_type": "code",
      "execution_count": 66,
      "metadata": {
        "id": "7EzJCRivrSFr"
      },
      "outputs": [],
      "source": [
        "grid_xgb = GridSearchCV(estimator=xgb, param_grid=params_xgb, cv=5, scoring='f1', n_jobs=-1)"
      ]
    },
    {
      "cell_type": "code",
      "execution_count": 67,
      "metadata": {
        "id": "U-62jMDWsXYV",
        "colab": {
          "base_uri": "https://localhost:8080/",
          "height": 117
        },
        "outputId": "b1a54c7a-b9e9-4c76-ed83-abb8a94a586d"
      },
      "outputs": [
        {
          "output_type": "execute_result",
          "data": {
            "text/plain": [
              "GridSearchCV(cv=5,\n",
              "             estimator=XGBClassifier(base_score=None, booster=None,\n",
              "                                     callbacks=None, colsample_bylevel=None,\n",
              "                                     colsample_bynode=None,\n",
              "                                     colsample_bytree=None, device=None,\n",
              "                                     early_stopping_rounds=None,\n",
              "                                     enable_categorical=False, eval_metric=None,\n",
              "                                     feature_types=None, gamma=None,\n",
              "                                     grow_policy=None, importance_type=None,\n",
              "                                     interaction_constraints=None,\n",
              "                                     learning_rate=None,...\n",
              "                                     missing=nan, monotone_constraints=None,\n",
              "                                     multi_strategy=None, n_estimators=None,\n",
              "                                     n_jobs=None, num_parallel_tree=None,\n",
              "                                     random_state=None, ...),\n",
              "             n_jobs=-1,\n",
              "             param_grid={'colsample_bylevel': [0.5, 0.7],\n",
              "                         'colsample_bytree': [0.77, 0.88], 'gamma': [0, 0.1],\n",
              "                         'learning_rate': [0.0001, 0.1], 'max_depth': [4, 5],\n",
              "                         'n_estimators': array([100, 110, 120, 130, 140]),\n",
              "                         'random_state': [84]},\n",
              "             scoring='f1')"
            ],
            "text/html": [
              "<style>#sk-container-id-1 {color: black;background-color: white;}#sk-container-id-1 pre{padding: 0;}#sk-container-id-1 div.sk-toggleable {background-color: white;}#sk-container-id-1 label.sk-toggleable__label {cursor: pointer;display: block;width: 100%;margin-bottom: 0;padding: 0.3em;box-sizing: border-box;text-align: center;}#sk-container-id-1 label.sk-toggleable__label-arrow:before {content: \"▸\";float: left;margin-right: 0.25em;color: #696969;}#sk-container-id-1 label.sk-toggleable__label-arrow:hover:before {color: black;}#sk-container-id-1 div.sk-estimator:hover label.sk-toggleable__label-arrow:before {color: black;}#sk-container-id-1 div.sk-toggleable__content {max-height: 0;max-width: 0;overflow: hidden;text-align: left;background-color: #f0f8ff;}#sk-container-id-1 div.sk-toggleable__content pre {margin: 0.2em;color: black;border-radius: 0.25em;background-color: #f0f8ff;}#sk-container-id-1 input.sk-toggleable__control:checked~div.sk-toggleable__content {max-height: 200px;max-width: 100%;overflow: auto;}#sk-container-id-1 input.sk-toggleable__control:checked~label.sk-toggleable__label-arrow:before {content: \"▾\";}#sk-container-id-1 div.sk-estimator input.sk-toggleable__control:checked~label.sk-toggleable__label {background-color: #d4ebff;}#sk-container-id-1 div.sk-label input.sk-toggleable__control:checked~label.sk-toggleable__label {background-color: #d4ebff;}#sk-container-id-1 input.sk-hidden--visually {border: 0;clip: rect(1px 1px 1px 1px);clip: rect(1px, 1px, 1px, 1px);height: 1px;margin: -1px;overflow: hidden;padding: 0;position: absolute;width: 1px;}#sk-container-id-1 div.sk-estimator {font-family: monospace;background-color: #f0f8ff;border: 1px dotted black;border-radius: 0.25em;box-sizing: border-box;margin-bottom: 0.5em;}#sk-container-id-1 div.sk-estimator:hover {background-color: #d4ebff;}#sk-container-id-1 div.sk-parallel-item::after {content: \"\";width: 100%;border-bottom: 1px solid gray;flex-grow: 1;}#sk-container-id-1 div.sk-label:hover label.sk-toggleable__label {background-color: #d4ebff;}#sk-container-id-1 div.sk-serial::before {content: \"\";position: absolute;border-left: 1px solid gray;box-sizing: border-box;top: 0;bottom: 0;left: 50%;z-index: 0;}#sk-container-id-1 div.sk-serial {display: flex;flex-direction: column;align-items: center;background-color: white;padding-right: 0.2em;padding-left: 0.2em;position: relative;}#sk-container-id-1 div.sk-item {position: relative;z-index: 1;}#sk-container-id-1 div.sk-parallel {display: flex;align-items: stretch;justify-content: center;background-color: white;position: relative;}#sk-container-id-1 div.sk-item::before, #sk-container-id-1 div.sk-parallel-item::before {content: \"\";position: absolute;border-left: 1px solid gray;box-sizing: border-box;top: 0;bottom: 0;left: 50%;z-index: -1;}#sk-container-id-1 div.sk-parallel-item {display: flex;flex-direction: column;z-index: 1;position: relative;background-color: white;}#sk-container-id-1 div.sk-parallel-item:first-child::after {align-self: flex-end;width: 50%;}#sk-container-id-1 div.sk-parallel-item:last-child::after {align-self: flex-start;width: 50%;}#sk-container-id-1 div.sk-parallel-item:only-child::after {width: 0;}#sk-container-id-1 div.sk-dashed-wrapped {border: 1px dashed gray;margin: 0 0.4em 0.5em 0.4em;box-sizing: border-box;padding-bottom: 0.4em;background-color: white;}#sk-container-id-1 div.sk-label label {font-family: monospace;font-weight: bold;display: inline-block;line-height: 1.2em;}#sk-container-id-1 div.sk-label-container {text-align: center;}#sk-container-id-1 div.sk-container {/* jupyter's `normalize.less` sets `[hidden] { display: none; }` but bootstrap.min.css set `[hidden] { display: none !important; }` so we also need the `!important` here to be able to override the default hidden behavior on the sphinx rendered scikit-learn.org. See: https://github.com/scikit-learn/scikit-learn/issues/21755 */display: inline-block !important;position: relative;}#sk-container-id-1 div.sk-text-repr-fallback {display: none;}</style><div id=\"sk-container-id-1\" class=\"sk-top-container\"><div class=\"sk-text-repr-fallback\"><pre>GridSearchCV(cv=5,\n",
              "             estimator=XGBClassifier(base_score=None, booster=None,\n",
              "                                     callbacks=None, colsample_bylevel=None,\n",
              "                                     colsample_bynode=None,\n",
              "                                     colsample_bytree=None, device=None,\n",
              "                                     early_stopping_rounds=None,\n",
              "                                     enable_categorical=False, eval_metric=None,\n",
              "                                     feature_types=None, gamma=None,\n",
              "                                     grow_policy=None, importance_type=None,\n",
              "                                     interaction_constraints=None,\n",
              "                                     learning_rate=None,...\n",
              "                                     missing=nan, monotone_constraints=None,\n",
              "                                     multi_strategy=None, n_estimators=None,\n",
              "                                     n_jobs=None, num_parallel_tree=None,\n",
              "                                     random_state=None, ...),\n",
              "             n_jobs=-1,\n",
              "             param_grid={&#x27;colsample_bylevel&#x27;: [0.5, 0.7],\n",
              "                         &#x27;colsample_bytree&#x27;: [0.77, 0.88], &#x27;gamma&#x27;: [0, 0.1],\n",
              "                         &#x27;learning_rate&#x27;: [0.0001, 0.1], &#x27;max_depth&#x27;: [4, 5],\n",
              "                         &#x27;n_estimators&#x27;: array([100, 110, 120, 130, 140]),\n",
              "                         &#x27;random_state&#x27;: [84]},\n",
              "             scoring=&#x27;f1&#x27;)</pre><b>In a Jupyter environment, please rerun this cell to show the HTML representation or trust the notebook. <br />On GitHub, the HTML representation is unable to render, please try loading this page with nbviewer.org.</b></div><div class=\"sk-container\" hidden><div class=\"sk-item sk-dashed-wrapped\"><div class=\"sk-label-container\"><div class=\"sk-label sk-toggleable\"><input class=\"sk-toggleable__control sk-hidden--visually\" id=\"sk-estimator-id-1\" type=\"checkbox\" ><label for=\"sk-estimator-id-1\" class=\"sk-toggleable__label sk-toggleable__label-arrow\">GridSearchCV</label><div class=\"sk-toggleable__content\"><pre>GridSearchCV(cv=5,\n",
              "             estimator=XGBClassifier(base_score=None, booster=None,\n",
              "                                     callbacks=None, colsample_bylevel=None,\n",
              "                                     colsample_bynode=None,\n",
              "                                     colsample_bytree=None, device=None,\n",
              "                                     early_stopping_rounds=None,\n",
              "                                     enable_categorical=False, eval_metric=None,\n",
              "                                     feature_types=None, gamma=None,\n",
              "                                     grow_policy=None, importance_type=None,\n",
              "                                     interaction_constraints=None,\n",
              "                                     learning_rate=None,...\n",
              "                                     missing=nan, monotone_constraints=None,\n",
              "                                     multi_strategy=None, n_estimators=None,\n",
              "                                     n_jobs=None, num_parallel_tree=None,\n",
              "                                     random_state=None, ...),\n",
              "             n_jobs=-1,\n",
              "             param_grid={&#x27;colsample_bylevel&#x27;: [0.5, 0.7],\n",
              "                         &#x27;colsample_bytree&#x27;: [0.77, 0.88], &#x27;gamma&#x27;: [0, 0.1],\n",
              "                         &#x27;learning_rate&#x27;: [0.0001, 0.1], &#x27;max_depth&#x27;: [4, 5],\n",
              "                         &#x27;n_estimators&#x27;: array([100, 110, 120, 130, 140]),\n",
              "                         &#x27;random_state&#x27;: [84]},\n",
              "             scoring=&#x27;f1&#x27;)</pre></div></div></div><div class=\"sk-parallel\"><div class=\"sk-parallel-item\"><div class=\"sk-item\"><div class=\"sk-label-container\"><div class=\"sk-label sk-toggleable\"><input class=\"sk-toggleable__control sk-hidden--visually\" id=\"sk-estimator-id-2\" type=\"checkbox\" ><label for=\"sk-estimator-id-2\" class=\"sk-toggleable__label sk-toggleable__label-arrow\">estimator: XGBClassifier</label><div class=\"sk-toggleable__content\"><pre>XGBClassifier(base_score=None, booster=None, callbacks=None,\n",
              "              colsample_bylevel=None, colsample_bynode=None,\n",
              "              colsample_bytree=None, device=None, early_stopping_rounds=None,\n",
              "              enable_categorical=False, eval_metric=None, feature_types=None,\n",
              "              gamma=None, grow_policy=None, importance_type=None,\n",
              "              interaction_constraints=None, learning_rate=None, max_bin=None,\n",
              "              max_cat_threshold=None, max_cat_to_onehot=None,\n",
              "              max_delta_step=None, max_depth=None, max_leaves=None,\n",
              "              min_child_weight=None, missing=nan, monotone_constraints=None,\n",
              "              multi_strategy=None, n_estimators=None, n_jobs=None,\n",
              "              num_parallel_tree=None, random_state=None, ...)</pre></div></div></div><div class=\"sk-serial\"><div class=\"sk-item\"><div class=\"sk-estimator sk-toggleable\"><input class=\"sk-toggleable__control sk-hidden--visually\" id=\"sk-estimator-id-3\" type=\"checkbox\" ><label for=\"sk-estimator-id-3\" class=\"sk-toggleable__label sk-toggleable__label-arrow\">XGBClassifier</label><div class=\"sk-toggleable__content\"><pre>XGBClassifier(base_score=None, booster=None, callbacks=None,\n",
              "              colsample_bylevel=None, colsample_bynode=None,\n",
              "              colsample_bytree=None, device=None, early_stopping_rounds=None,\n",
              "              enable_categorical=False, eval_metric=None, feature_types=None,\n",
              "              gamma=None, grow_policy=None, importance_type=None,\n",
              "              interaction_constraints=None, learning_rate=None, max_bin=None,\n",
              "              max_cat_threshold=None, max_cat_to_onehot=None,\n",
              "              max_delta_step=None, max_depth=None, max_leaves=None,\n",
              "              min_child_weight=None, missing=nan, monotone_constraints=None,\n",
              "              multi_strategy=None, n_estimators=None, n_jobs=None,\n",
              "              num_parallel_tree=None, random_state=None, ...)</pre></div></div></div></div></div></div></div></div></div></div>"
            ]
          },
          "metadata": {},
          "execution_count": 67
        }
      ],
      "source": [
        "grid_xgb.fit(X_train_scaled, y_train_resampled)"
      ]
    },
    {
      "cell_type": "code",
      "execution_count": 68,
      "metadata": {
        "id": "Wqxb8-Y9tWfG"
      },
      "outputs": [],
      "source": [
        "best_p = grid_xgb.best_params_"
      ]
    },
    {
      "cell_type": "code",
      "execution_count": 69,
      "metadata": {
        "id": "zrhrhO-9toZi"
      },
      "outputs": [],
      "source": [
        "best_score = grid_xgb.best_score_"
      ]
    },
    {
      "cell_type": "code",
      "execution_count": 70,
      "metadata": {
        "id": "jPrCK_zmtw_c",
        "colab": {
          "base_uri": "https://localhost:8080/"
        },
        "outputId": "8669bf99-cd2d-4daa-867e-f680f703499b"
      },
      "outputs": [
        {
          "output_type": "stream",
          "name": "stdout",
          "text": [
            "Best parameters: {'colsample_bylevel': 0.5, 'colsample_bytree': 0.77, 'gamma': 0, 'learning_rate': 0.0001, 'max_depth': 5, 'n_estimators': 120, 'random_state': 84} and best score: 0.9073838843357288\n"
          ]
        }
      ],
      "source": [
        "print(f'Best parameters: {best_p} and best score: {best_score}')"
      ]
    },
    {
      "cell_type": "markdown",
      "source": [
        "IMPLEMENTACIÓN DEL MODELO: XGBOOST CLASSIFIER"
      ],
      "metadata": {
        "id": "ZPr5Qk1G0E1i"
      }
    },
    {
      "cell_type": "code",
      "execution_count": 71,
      "metadata": {
        "id": "BXMoM4xquDnY"
      },
      "outputs": [],
      "source": [
        "xgb = XGBClassifier(\n",
        "    max_depth=5,\n",
        "    learning_rate=0.0001,\n",
        "    colsample_bytree=0.77,\n",
        "    colsample_bylevel=0.7,\n",
        "    n_estimators=140,\n",
        "    gamma=0.1,\n",
        "    random_state=SEED\n",
        ")"
      ]
    },
    {
      "cell_type": "code",
      "execution_count": 72,
      "metadata": {
        "id": "20oHLvM4wkQr",
        "colab": {
          "base_uri": "https://localhost:8080/",
          "height": 248
        },
        "outputId": "30588488-63ad-4c11-f983-36a646029bcb"
      },
      "outputs": [
        {
          "output_type": "execute_result",
          "data": {
            "text/plain": [
              "XGBClassifier(base_score=None, booster=None, callbacks=None,\n",
              "              colsample_bylevel=0.7, colsample_bynode=None,\n",
              "              colsample_bytree=0.77, device=None, early_stopping_rounds=None,\n",
              "              enable_categorical=False, eval_metric=None, feature_types=None,\n",
              "              gamma=0.1, grow_policy=None, importance_type=None,\n",
              "              interaction_constraints=None, learning_rate=0.0001, max_bin=None,\n",
              "              max_cat_threshold=None, max_cat_to_onehot=None,\n",
              "              max_delta_step=None, max_depth=5, max_leaves=None,\n",
              "              min_child_weight=None, missing=nan, monotone_constraints=None,\n",
              "              multi_strategy=None, n_estimators=140, n_jobs=None,\n",
              "              num_parallel_tree=None, random_state=84, ...)"
            ],
            "text/html": [
              "<style>#sk-container-id-2 {color: black;background-color: white;}#sk-container-id-2 pre{padding: 0;}#sk-container-id-2 div.sk-toggleable {background-color: white;}#sk-container-id-2 label.sk-toggleable__label {cursor: pointer;display: block;width: 100%;margin-bottom: 0;padding: 0.3em;box-sizing: border-box;text-align: center;}#sk-container-id-2 label.sk-toggleable__label-arrow:before {content: \"▸\";float: left;margin-right: 0.25em;color: #696969;}#sk-container-id-2 label.sk-toggleable__label-arrow:hover:before {color: black;}#sk-container-id-2 div.sk-estimator:hover label.sk-toggleable__label-arrow:before {color: black;}#sk-container-id-2 div.sk-toggleable__content {max-height: 0;max-width: 0;overflow: hidden;text-align: left;background-color: #f0f8ff;}#sk-container-id-2 div.sk-toggleable__content pre {margin: 0.2em;color: black;border-radius: 0.25em;background-color: #f0f8ff;}#sk-container-id-2 input.sk-toggleable__control:checked~div.sk-toggleable__content {max-height: 200px;max-width: 100%;overflow: auto;}#sk-container-id-2 input.sk-toggleable__control:checked~label.sk-toggleable__label-arrow:before {content: \"▾\";}#sk-container-id-2 div.sk-estimator input.sk-toggleable__control:checked~label.sk-toggleable__label {background-color: #d4ebff;}#sk-container-id-2 div.sk-label input.sk-toggleable__control:checked~label.sk-toggleable__label {background-color: #d4ebff;}#sk-container-id-2 input.sk-hidden--visually {border: 0;clip: rect(1px 1px 1px 1px);clip: rect(1px, 1px, 1px, 1px);height: 1px;margin: -1px;overflow: hidden;padding: 0;position: absolute;width: 1px;}#sk-container-id-2 div.sk-estimator {font-family: monospace;background-color: #f0f8ff;border: 1px dotted black;border-radius: 0.25em;box-sizing: border-box;margin-bottom: 0.5em;}#sk-container-id-2 div.sk-estimator:hover {background-color: #d4ebff;}#sk-container-id-2 div.sk-parallel-item::after {content: \"\";width: 100%;border-bottom: 1px solid gray;flex-grow: 1;}#sk-container-id-2 div.sk-label:hover label.sk-toggleable__label {background-color: #d4ebff;}#sk-container-id-2 div.sk-serial::before {content: \"\";position: absolute;border-left: 1px solid gray;box-sizing: border-box;top: 0;bottom: 0;left: 50%;z-index: 0;}#sk-container-id-2 div.sk-serial {display: flex;flex-direction: column;align-items: center;background-color: white;padding-right: 0.2em;padding-left: 0.2em;position: relative;}#sk-container-id-2 div.sk-item {position: relative;z-index: 1;}#sk-container-id-2 div.sk-parallel {display: flex;align-items: stretch;justify-content: center;background-color: white;position: relative;}#sk-container-id-2 div.sk-item::before, #sk-container-id-2 div.sk-parallel-item::before {content: \"\";position: absolute;border-left: 1px solid gray;box-sizing: border-box;top: 0;bottom: 0;left: 50%;z-index: -1;}#sk-container-id-2 div.sk-parallel-item {display: flex;flex-direction: column;z-index: 1;position: relative;background-color: white;}#sk-container-id-2 div.sk-parallel-item:first-child::after {align-self: flex-end;width: 50%;}#sk-container-id-2 div.sk-parallel-item:last-child::after {align-self: flex-start;width: 50%;}#sk-container-id-2 div.sk-parallel-item:only-child::after {width: 0;}#sk-container-id-2 div.sk-dashed-wrapped {border: 1px dashed gray;margin: 0 0.4em 0.5em 0.4em;box-sizing: border-box;padding-bottom: 0.4em;background-color: white;}#sk-container-id-2 div.sk-label label {font-family: monospace;font-weight: bold;display: inline-block;line-height: 1.2em;}#sk-container-id-2 div.sk-label-container {text-align: center;}#sk-container-id-2 div.sk-container {/* jupyter's `normalize.less` sets `[hidden] { display: none; }` but bootstrap.min.css set `[hidden] { display: none !important; }` so we also need the `!important` here to be able to override the default hidden behavior on the sphinx rendered scikit-learn.org. See: https://github.com/scikit-learn/scikit-learn/issues/21755 */display: inline-block !important;position: relative;}#sk-container-id-2 div.sk-text-repr-fallback {display: none;}</style><div id=\"sk-container-id-2\" class=\"sk-top-container\"><div class=\"sk-text-repr-fallback\"><pre>XGBClassifier(base_score=None, booster=None, callbacks=None,\n",
              "              colsample_bylevel=0.7, colsample_bynode=None,\n",
              "              colsample_bytree=0.77, device=None, early_stopping_rounds=None,\n",
              "              enable_categorical=False, eval_metric=None, feature_types=None,\n",
              "              gamma=0.1, grow_policy=None, importance_type=None,\n",
              "              interaction_constraints=None, learning_rate=0.0001, max_bin=None,\n",
              "              max_cat_threshold=None, max_cat_to_onehot=None,\n",
              "              max_delta_step=None, max_depth=5, max_leaves=None,\n",
              "              min_child_weight=None, missing=nan, monotone_constraints=None,\n",
              "              multi_strategy=None, n_estimators=140, n_jobs=None,\n",
              "              num_parallel_tree=None, random_state=84, ...)</pre><b>In a Jupyter environment, please rerun this cell to show the HTML representation or trust the notebook. <br />On GitHub, the HTML representation is unable to render, please try loading this page with nbviewer.org.</b></div><div class=\"sk-container\" hidden><div class=\"sk-item\"><div class=\"sk-estimator sk-toggleable\"><input class=\"sk-toggleable__control sk-hidden--visually\" id=\"sk-estimator-id-4\" type=\"checkbox\" checked><label for=\"sk-estimator-id-4\" class=\"sk-toggleable__label sk-toggleable__label-arrow\">XGBClassifier</label><div class=\"sk-toggleable__content\"><pre>XGBClassifier(base_score=None, booster=None, callbacks=None,\n",
              "              colsample_bylevel=0.7, colsample_bynode=None,\n",
              "              colsample_bytree=0.77, device=None, early_stopping_rounds=None,\n",
              "              enable_categorical=False, eval_metric=None, feature_types=None,\n",
              "              gamma=0.1, grow_policy=None, importance_type=None,\n",
              "              interaction_constraints=None, learning_rate=0.0001, max_bin=None,\n",
              "              max_cat_threshold=None, max_cat_to_onehot=None,\n",
              "              max_delta_step=None, max_depth=5, max_leaves=None,\n",
              "              min_child_weight=None, missing=nan, monotone_constraints=None,\n",
              "              multi_strategy=None, n_estimators=140, n_jobs=None,\n",
              "              num_parallel_tree=None, random_state=84, ...)</pre></div></div></div></div></div>"
            ]
          },
          "metadata": {},
          "execution_count": 72
        }
      ],
      "source": [
        "xgb.fit(X_train_scaled, y_train_resampled)"
      ]
    },
    {
      "cell_type": "code",
      "execution_count": 73,
      "metadata": {
        "id": "QXNcyCTPuD10"
      },
      "outputs": [],
      "source": [
        "y_pred = xgb.predict(X_test_scaled)"
      ]
    },
    {
      "cell_type": "markdown",
      "source": [
        "IMPRIMIENDO COMPARACIÓN DE PUNTAJES"
      ],
      "metadata": {
        "id": "kjS5WsEJ3VUk"
      }
    },
    {
      "cell_type": "code",
      "execution_count": 74,
      "metadata": {
        "id": "TlDgZK-buXJV",
        "colab": {
          "base_uri": "https://localhost:8080/"
        },
        "outputId": "d6a45114-3f60-47e2-cdce-22e2e8764d64"
      },
      "outputs": [
        {
          "output_type": "stream",
          "name": "stdout",
          "text": [
            "0.8642645607107601\n"
          ]
        }
      ],
      "source": [
        "print(xgb.score(X_test_scaled, y_test))"
      ]
    },
    {
      "cell_type": "code",
      "source": [
        "y_proba = xgb.predict_proba(X_test_scaled)"
      ],
      "metadata": {
        "id": "4d2e3gFcpkzK"
      },
      "execution_count": 75,
      "outputs": []
    },
    {
      "cell_type": "markdown",
      "source": [
        "IMPRESIÓN DE ROC AUC: VALOR DE PREDICCIÓN CLASE \"1\" DE LA VARIABLE OBJETIVO"
      ],
      "metadata": {
        "id": "kZB2I3bksgur"
      }
    },
    {
      "cell_type": "code",
      "source": [
        "auc = roc_auc_score(y_test, y_proba[:, 1])\n",
        "print(f'Puntaje AUC: {auc}')"
      ],
      "metadata": {
        "id": "9SIfVpNWRTFb",
        "colab": {
          "base_uri": "https://localhost:8080/"
        },
        "outputId": "b5590b11-a9fc-4a6c-9954-49ad138efe4b"
      },
      "execution_count": 76,
      "outputs": [
        {
          "output_type": "stream",
          "name": "stdout",
          "text": [
            "Puntaje AUC: 0.9112657712657712\n"
          ]
        }
      ]
    },
    {
      "cell_type": "markdown",
      "source": [
        "REPORTE DE CLASIFICACIÓN"
      ],
      "metadata": {
        "id": "ZoJS1S2Lrdsv"
      }
    },
    {
      "cell_type": "code",
      "source": [
        "print(classification_report(y_test, y_pred))"
      ],
      "metadata": {
        "id": "1o9rGi6erh-8",
        "colab": {
          "base_uri": "https://localhost:8080/"
        },
        "outputId": "71ef1dc9-4c9f-4c82-dcc1-8f6b25ff20d7"
      },
      "execution_count": 77,
      "outputs": [
        {
          "output_type": "stream",
          "name": "stdout",
          "text": [
            "              precision    recall  f1-score   support\n",
            "\n",
            "           0       0.94      0.89      0.92      1701\n",
            "           1       0.56      0.73      0.63       325\n",
            "\n",
            "    accuracy                           0.86      2026\n",
            "   macro avg       0.75      0.81      0.77      2026\n",
            "weighted avg       0.88      0.86      0.87      2026\n",
            "\n"
          ]
        }
      ]
    },
    {
      "cell_type": "markdown",
      "source": [
        "APLICANDO STRATIFIED K-FOLD CROSS VALIDATION SOBRE XGBOOST CLASSIFIER"
      ],
      "metadata": {
        "id": "rj1B1jnpAocN"
      }
    },
    {
      "cell_type": "code",
      "source": [
        "MSE_CV = cross_val_score(xgb, X_train_scaled, y_train_resampled,\n",
        "                         cv=StratifiedKFold(n_splits=5, shuffle=True, random_state=SEED), scoring='neg_mean_squared_error', n_jobs=-1)"
      ],
      "metadata": {
        "id": "LtX3lHpaYJcm"
      },
      "execution_count": 78,
      "outputs": []
    },
    {
      "cell_type": "code",
      "source": [
        "print(\"CV MSE: {:.2f}\".format(MSE_CV.mean()*-1))"
      ],
      "metadata": {
        "id": "sjB9PGpDAqZl",
        "colab": {
          "base_uri": "https://localhost:8080/"
        },
        "outputId": "e2536d3a-b696-4136-8f0b-8164ca4c1225"
      },
      "execution_count": 79,
      "outputs": [
        {
          "output_type": "stream",
          "name": "stdout",
          "text": [
            "CV MSE: 0.09\n"
          ]
        }
      ]
    },
    {
      "cell_type": "code",
      "source": [
        "print(\"Train MSE: {:.2f}\".format(MSE(y_train_resampled, xgb.predict(X_train_scaled))))"
      ],
      "metadata": {
        "id": "lVdGwbdTAx57",
        "colab": {
          "base_uri": "https://localhost:8080/"
        },
        "outputId": "8e1d1417-a6a0-4c4e-faf9-8708fbc86c54"
      },
      "execution_count": 80,
      "outputs": [
        {
          "output_type": "stream",
          "name": "stdout",
          "text": [
            "Train MSE: 0.09\n"
          ]
        }
      ]
    },
    {
      "cell_type": "code",
      "source": [
        "print(\"Test MSE: {:.2f}\".format(MSE(y_test, y_pred)))"
      ],
      "metadata": {
        "id": "QAjtq5T7BS7M",
        "colab": {
          "base_uri": "https://localhost:8080/"
        },
        "outputId": "b7c28f34-14e0-47b1-9015-7e5e98719103"
      },
      "execution_count": 81,
      "outputs": [
        {
          "output_type": "stream",
          "name": "stdout",
          "text": [
            "Test MSE: 0.14\n"
          ]
        }
      ]
    }
  ],
  "metadata": {
    "colab": {
      "collapsed_sections": [
        "SWHWWWImRcNs"
      ],
      "provenance": [],
      "authorship_tag": "ABX9TyNMurakQta8cNlpfoCPPqs1",
      "include_colab_link": true
    },
    "kernelspec": {
      "display_name": "Python 3",
      "name": "python3"
    },
    "language_info": {
      "name": "python"
    }
  },
  "nbformat": 4,
  "nbformat_minor": 0
}